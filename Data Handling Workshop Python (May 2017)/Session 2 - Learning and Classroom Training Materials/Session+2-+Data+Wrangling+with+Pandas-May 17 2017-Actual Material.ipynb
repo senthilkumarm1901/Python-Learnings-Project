{
 "cells": [
  {
   "cell_type": "markdown",
   "metadata": {
    "collapsed": true
   },
   "source": [
    "##### DataFrame is a 2-dimensional labeled data structure with columns of potentially different types. You can think of it like a spreadsheet or SQL table, or a dict of Series objects. It is generally the most commonly used pandas object."
   ]
  },
  {
   "cell_type": "code",
   "execution_count": null,
   "metadata": {
    "collapsed": false
   },
   "outputs": [],
   "source": [
    "Creation of DataFrames\n",
    "\n",
    "* From Dictionaries of lists\n",
    "* From Numpy Array\n",
    "* From another DataFrame\n",
    "* From File"
   ]
  },
  {
   "cell_type": "code",
   "execution_count": null,
   "metadata": {
    "collapsed": false
   },
   "outputs": [],
   "source": [
    "import pandas as pd\n",
    "import numpy as np\n",
    "import os\n",
    "os.chdir(\"D:\\Govind\")"
   ]
  },
  {
   "cell_type": "code",
   "execution_count": null,
   "metadata": {
    "collapsed": false
   },
   "outputs": [],
   "source": [
    "#Creation of Dataframes-From Dictionaries of lists\n",
    "data = pd.DataFrame({'Score':[99, 100, 90, 99, 80, 57, 40, 39],\n",
    "                     'Student_ID':[1, 2, 3, 4, 4, 3, 2, 1],\n",
    "                     'Subjects':['Statistics', 'Python', 'R','Tableau', 'HTML_based_Visualization', \n",
    "                                 'Apache-Spark', 'MachineLearning', 'Artificial Intelligence']})\n",
    "data"
   ]
  },
  {
   "cell_type": "code",
   "execution_count": null,
   "metadata": {
    "collapsed": false,
    "scrolled": true
   },
   "outputs": [],
   "source": [
    "#Creation of Dataframes-From Numpy Array\n",
    "df1 = pd.DataFrame(np.random.randn(6,4),columns=['A','B','C','D'])\n",
    "df2 = pd.DataFrame(np.random.randn(6,4),columns=list('ABCD'))\n",
    "print df1\n",
    "print df2"
   ]
  },
  {
   "cell_type": "code",
   "execution_count": null,
   "metadata": {
    "collapsed": false
   },
   "outputs": [],
   "source": [
    "#Creation of Dataframes-From another DataFrame\n",
    "data1=pd.DataFrame(data);\n",
    "print data1;\n",
    "print '\\n';\n",
    "data2=data;\n",
    "print data2;"
   ]
  },
  {
   "cell_type": "code",
   "execution_count": null,
   "metadata": {
    "collapsed": true
   },
   "outputs": [],
   "source": [
    "#-->data1=data (be very careful with the assignment operator) \n",
    "#-->The above incorrect syntax will result in data getting affected if data1 gets affected \n",
    "data_original=data.copy()"
   ]
  },
  {
   "cell_type": "code",
   "execution_count": null,
   "metadata": {
    "collapsed": true
   },
   "outputs": [],
   "source": [
    "data1=data"
   ]
  },
  {
   "cell_type": "code",
   "execution_count": null,
   "metadata": {
    "collapsed": true
   },
   "outputs": [],
   "source": [
    "data1.index=data['Subjects']"
   ]
  },
  {
   "cell_type": "code",
   "execution_count": null,
   "metadata": {
    "collapsed": false
   },
   "outputs": [],
   "source": [
    "data1.index"
   ]
  },
  {
   "cell_type": "code",
   "execution_count": null,
   "metadata": {
    "collapsed": false
   },
   "outputs": [],
   "source": [
    "data1.ix['MachineLearning','Score']"
   ]
  },
  {
   "cell_type": "code",
   "execution_count": null,
   "metadata": {
    "collapsed": true
   },
   "outputs": [],
   "source": [
    "data1.ix['MachineLearning','Score']=100"
   ]
  },
  {
   "cell_type": "code",
   "execution_count": null,
   "metadata": {
    "collapsed": false
   },
   "outputs": [],
   "source": [
    "type(data1['Score'])\n",
    "type(data1['Subjects'])"
   ]
  },
  {
   "cell_type": "code",
   "execution_count": null,
   "metadata": {
    "collapsed": false
   },
   "outputs": [],
   "source": [
    "data"
   ]
  },
  {
   "cell_type": "code",
   "execution_count": null,
   "metadata": {
    "collapsed": false
   },
   "outputs": [],
   "source": [
    "data_original \n",
    "#stays unaffected"
   ]
  },
  {
   "cell_type": "code",
   "execution_count": null,
   "metadata": {
    "collapsed": true
   },
   "outputs": [],
   "source": [
    "#In Pandas, indexing a DataFrame returns a reference to the initial DataFrame. \n",
    "#Thus, changing the subset/directly copied dataset will change the initial DataFrame. \n",
    "#Thus, you'd want to use the COPY if you want to make sure the initial DataFrame shouldn't change"
   ]
  },
  {
   "cell_type": "code",
   "execution_count": null,
   "metadata": {
    "collapsed": false,
    "scrolled": true
   },
   "outputs": [],
   "source": [
    "#Creation of Dataframes-From File\n",
    "data3=pd.DataFrame()\n",
    "data3=pd.read_csv(r'StudentDetails.csv',error_bad_lines=False)\n",
    "print data3"
   ]
  },
  {
   "cell_type": "code",
   "execution_count": null,
   "metadata": {
    "collapsed": false,
    "scrolled": true
   },
   "outputs": [],
   "source": [
    "data4=pd.DataFrame()\n",
    "data4=pd.read_csv(r'ProfessorDetails.csv',error_bad_lines=False)\n",
    "print data4"
   ]
  },
  {
   "cell_type": "code",
   "execution_count": null,
   "metadata": {
    "collapsed": false
   },
   "outputs": [],
   "source": [
    "#Concatenation of DataFrames-Along Rows\n",
    "data5=pd.concat([data3,data4],axis=0)\n",
    "print data5"
   ]
  },
  {
   "cell_type": "code",
   "execution_count": null,
   "metadata": {
    "collapsed": false
   },
   "outputs": [],
   "source": [
    "#Concatenation of DataFrames-Along Columns\n",
    "data5=pd.concat([data3,data4],axis=1)\n",
    "print data5"
   ]
  },
  {
   "cell_type": "code",
   "execution_count": null,
   "metadata": {
    "collapsed": false
   },
   "outputs": [],
   "source": [
    "#Writing to a file\n",
    "data5.to_csv(\"Concat_details.csv\")\n",
    "print \"Output has been generated under your Documents folder\""
   ]
  },
  {
   "cell_type": "code",
   "execution_count": null,
   "metadata": {
    "collapsed": false,
    "scrolled": true
   },
   "outputs": [],
   "source": [
    "# Counting the number of rows or columns\n",
    "print len(data5)\n",
    "print '\\n'\n",
    "print len(data5.columns)\n",
    "print '\\n'\n",
    "print data5.shape\n"
   ]
  },
  {
   "cell_type": "code",
   "execution_count": null,
   "metadata": {
    "collapsed": false
   },
   "outputs": [],
   "source": [
    "#Adding an another column to a Dataframe\n",
    "data['Subject_Category']=['Concept_based','Tool_based','Tool_based','Tool_based','Tool_based','Tool_based','Concept_based AND Tool_based','Tool_based AND Concept_based']\n",
    "data"
   ]
  },
  {
   "cell_type": "code",
   "execution_count": null,
   "metadata": {
    "collapsed": true
   },
   "outputs": [],
   "source": [
    "#To access rows and columns\n",
    "# to know how to access row index and column index"
   ]
  },
  {
   "cell_type": "code",
   "execution_count": null,
   "metadata": {
    "collapsed": true
   },
   "outputs": [],
   "source": [
    "#Accessing first few rows & last few rows in a dataframe"
   ]
  },
  {
   "cell_type": "code",
   "execution_count": null,
   "metadata": {
    "collapsed": false
   },
   "outputs": [],
   "source": [
    "print data.head(3)\n",
    "print '\\n'\n",
    "print data.tail(3)"
   ]
  },
  {
   "cell_type": "code",
   "execution_count": null,
   "metadata": {
    "collapsed": false
   },
   "outputs": [],
   "source": [
    "# ways to access the indices - data.loc or data.iloc or #data.ix\n",
    "data"
   ]
  },
  {
   "cell_type": "code",
   "execution_count": null,
   "metadata": {
    "collapsed": false,
    "scrolled": true
   },
   "outputs": [],
   "source": [
    "#Correct Ways to access a column in the dataframe\n",
    "print data.loc[:,'Subjects'] # loc is primarily label based indexing - so you can look up a column or row by its name\n",
    "print '\\n'\n",
    "print data.iloc[:,2] #iloc is integer based indexing\n",
    "print '\\n'\n",
    "print data.ix[:,2]#.ix can handle both integer and label based indexing\n",
    "print '\\n'\n",
    "print data.ix[3,\"Subjects\"]\n",
    "print '\\n'\n",
    "print data.Subjects"
   ]
  },
  {
   "cell_type": "code",
   "execution_count": null,
   "metadata": {
    "collapsed": false
   },
   "outputs": [],
   "source": [
    "#Correct Ways to access a row in the dataframe\n",
    "\n",
    "#Correct Ways to access a column in the dataframe\n",
    "print data.loc['Tableau',:] # loc is primarily label based indexing - so you can look up a column or row by its name\n",
    "print '\\n'\n",
    "print data.ix['Tableau',:]"
   ]
  },
  {
   "cell_type": "code",
   "execution_count": null,
   "metadata": {
    "collapsed": false
   },
   "outputs": [],
   "source": [
    "data_original"
   ]
  },
  {
   "cell_type": "code",
   "execution_count": null,
   "metadata": {
    "collapsed": false
   },
   "outputs": [],
   "source": [
    "#For listing column names of a dataframe\n",
    "data_original.columns"
   ]
  },
  {
   "cell_type": "code",
   "execution_count": null,
   "metadata": {
    "collapsed": false
   },
   "outputs": [],
   "source": [
    "# For altering the index of a dataframe\n",
    "data_original.index=['Class1','Class2','Class3','Class4','Class5','Class6','Class7','Class8']"
   ]
  },
  {
   "cell_type": "code",
   "execution_count": null,
   "metadata": {
    "collapsed": true
   },
   "outputs": [],
   "source": [
    "#Condition based data subsetting"
   ]
  },
  {
   "cell_type": "code",
   "execution_count": null,
   "metadata": {
    "collapsed": false
   },
   "outputs": [],
   "source": [
    "#single condition subsetting - Example1 with Numeric Variable\n",
    "data3=pd.DataFrame()\n",
    "data3=data_original[data_original['Score']>90]\n",
    "data3"
   ]
  },
  {
   "cell_type": "code",
   "execution_count": null,
   "metadata": {
    "collapsed": false
   },
   "outputs": [],
   "source": [
    "data_original=data.copy()\n",
    "data_original"
   ]
  },
  {
   "cell_type": "code",
   "execution_count": null,
   "metadata": {
    "collapsed": false
   },
   "outputs": [],
   "source": [
    "#multiple condition subsetting with AND function\n",
    "data3=data_original[(data_original['Subject_Category']!='Tool_based')&(data_original['Score']>90)]"
   ]
  },
  {
   "cell_type": "code",
   "execution_count": null,
   "metadata": {
    "collapsed": false
   },
   "outputs": [],
   "source": [
    "data3"
   ]
  },
  {
   "cell_type": "code",
   "execution_count": null,
   "metadata": {
    "collapsed": true
   },
   "outputs": [],
   "source": [
    "#multiple condition subsetting with OR function\n",
    "data3=data_original[(data_original['Subject_Category']!='Tool_based')|(data_original['Score']>90)]"
   ]
  },
  {
   "cell_type": "code",
   "execution_count": null,
   "metadata": {
    "collapsed": false
   },
   "outputs": [],
   "source": [
    "data3"
   ]
  },
  {
   "cell_type": "code",
   "execution_count": null,
   "metadata": {
    "collapsed": false
   },
   "outputs": [],
   "source": [
    "#creating a new column in a subsetted dataset and assigning values\n",
    "data3['Name']=''\n",
    "data3.loc[data3.Student_ID==1,'Name']='Anuradha'\n",
    "data3.loc[data3.Student_ID==2,'Name']='Balu'\n",
    "data3.loc[data3.Student_ID==4,'Name']='David'\n",
    "data3"
   ]
  },
  {
   "cell_type": "code",
   "execution_count": null,
   "metadata": {
    "collapsed": true
   },
   "outputs": [],
   "source": [
    "#Why did the warning occur? Because we are inputting on a subsetted dataframe"
   ]
  },
  {
   "cell_type": "code",
   "execution_count": null,
   "metadata": {
    "collapsed": true
   },
   "outputs": [],
   "source": [
    "data_original.loc[data_original.Student_ID==1,'Name']='Anuradha'\n",
    "data_original.loc[data_original.Student_ID==2,'Name']='Balu'\n",
    "data_original.loc[data_original.Student_ID==4,'Name']='David'\n",
    "data_original.loc[data_original.Student_ID==3,'Name']='Charan'"
   ]
  },
  {
   "cell_type": "code",
   "execution_count": null,
   "metadata": {
    "collapsed": false
   },
   "outputs": [],
   "source": [
    "data_original"
   ]
  },
  {
   "cell_type": "code",
   "execution_count": null,
   "metadata": {
    "collapsed": false
   },
   "outputs": [],
   "source": [
    "#Merging two dataframes\n",
    "data4=pd.DataFrame({'Student_ID':[1,2,3,4],\n",
    "                    'Location':['Chennai','Gurgaon','Delhi','Hyderabad']})"
   ]
  },
  {
   "cell_type": "code",
   "execution_count": null,
   "metadata": {
    "collapsed": false
   },
   "outputs": [],
   "source": [
    "data4"
   ]
  },
  {
   "cell_type": "code",
   "execution_count": null,
   "metadata": {
    "collapsed": true
   },
   "outputs": [],
   "source": [
    "data_original=pd.merge(data_original,data4,how='left',on=['Student_ID'])"
   ]
  },
  {
   "cell_type": "code",
   "execution_count": null,
   "metadata": {
    "collapsed": false
   },
   "outputs": [],
   "source": [
    "data_original"
   ]
  },
  {
   "cell_type": "code",
   "execution_count": null,
   "metadata": {
    "collapsed": false
   },
   "outputs": [],
   "source": [
    "#To drop a column or a row\n",
    "#using column number\n",
    "data5=data_original.copy()\n",
    "data5.drop(data5.columns[5],axis=1,inplace=True)"
   ]
  },
  {
   "cell_type": "code",
   "execution_count": null,
   "metadata": {
    "collapsed": false,
    "scrolled": true
   },
   "outputs": [],
   "source": [
    "data5"
   ]
  },
  {
   "cell_type": "code",
   "execution_count": null,
   "metadata": {
    "collapsed": false
   },
   "outputs": [],
   "source": [
    "#removing using column name\n",
    "data6=data_original.copy()\n",
    "data6.drop([\"Location\",\"Name\"],axis=1,inplace=True)"
   ]
  },
  {
   "cell_type": "code",
   "execution_count": null,
   "metadata": {
    "collapsed": false
   },
   "outputs": [],
   "source": [
    "data6"
   ]
  },
  {
   "cell_type": "code",
   "execution_count": null,
   "metadata": {
    "collapsed": true
   },
   "outputs": [],
   "source": [
    "#axis = 1 to apply a method along the column labels\n",
    "#axis = 0 to apply a method along the row labels"
   ]
  },
  {
   "cell_type": "code",
   "execution_count": null,
   "metadata": {
    "collapsed": false
   },
   "outputs": [],
   "source": [
    "data6[data6['Score']<40].index"
   ]
  },
  {
   "cell_type": "code",
   "execution_count": null,
   "metadata": {
    "collapsed": false
   },
   "outputs": [],
   "source": [
    "data6.drop(data6[data6['Score']<40].index,axis=0,inplace=True)"
   ]
  },
  {
   "cell_type": "code",
   "execution_count": null,
   "metadata": {
    "collapsed": false
   },
   "outputs": [],
   "source": [
    "data6"
   ]
  },
  {
   "cell_type": "code",
   "execution_count": null,
   "metadata": {
    "collapsed": false,
    "scrolled": true
   },
   "outputs": [],
   "source": [
    "data_original"
   ]
  },
  {
   "cell_type": "code",
   "execution_count": null,
   "metadata": {
    "collapsed": true
   },
   "outputs": [],
   "source": [
    "#renaminig a column\n",
    "data_original.rename(columns={'Score':'Marks'},inplace=True)"
   ]
  },
  {
   "cell_type": "code",
   "execution_count": null,
   "metadata": {
    "collapsed": false
   },
   "outputs": [],
   "source": [
    "data_original"
   ]
  },
  {
   "cell_type": "code",
   "execution_count": null,
   "metadata": {
    "collapsed": false,
    "scrolled": true
   },
   "outputs": [],
   "source": [
    "#Missing Value Treatment\n",
    "import numpy as np\n",
    "#for creating missing values with nan function of numpy\n",
    "data7=data_original.copy()\n",
    "data7=data7.append({'Marks':np.nan,'Student_ID':5,'Subjects':'SQL Lite','Subject_Category':'Tool_based','Name':'Xavier','Location':'Jamshedpur'},\n",
    "             ignore_index=True)\n",
    "print data7\n",
    "data8=data_original.copy()\n",
    "data8.ix[8,:]=[np.nan,6,'SQL Lite','Tool_based','Yuvaraj','Mumbai']\n",
    "print data8"
   ]
  },
  {
   "cell_type": "code",
   "execution_count": null,
   "metadata": {
    "collapsed": false
   },
   "outputs": [],
   "source": [
    "data7.isnull().sum()\n",
    "#iidentifies the number of missing values in each column"
   ]
  },
  {
   "cell_type": "code",
   "execution_count": null,
   "metadata": {
    "collapsed": false
   },
   "outputs": [],
   "source": [
    "#To replace na's with choice of your computation\n",
    "data7['Marks'].fillna(value=data7['Marks'].median(),inplace=True)\n",
    "data7"
   ]
  },
  {
   "cell_type": "code",
   "execution_count": null,
   "metadata": {
    "collapsed": false
   },
   "outputs": [],
   "source": [
    "#To drop na\n",
    "data8.dropna(inplace=True)\n",
    "data8"
   ]
  },
  {
   "cell_type": "code",
   "execution_count": null,
   "metadata": {
    "collapsed": false
   },
   "outputs": [],
   "source": [
    "#Working with Text Data\n",
    "#String Manipulation in Dataframes (and an intro to Regular Expressions)\n",
    "data9=data_original.copy()\n",
    "data9[data9['Subject_Category'].str.contains('tool',case=False)]\n",
    "#searching for all rows where Subject_Category contains the word tool"
   ]
  },
  {
   "cell_type": "code",
   "execution_count": null,
   "metadata": {
    "collapsed": true
   },
   "outputs": [],
   "source": [
    "data9['Subject_Category'].replace(to_replace=r'Tool_based',value='Software_based',regex=True,inplace=True)\n",
    "#if regex=False, it won't replace the Tool_based in last two rows "
   ]
  },
  {
   "cell_type": "code",
   "execution_count": null,
   "metadata": {
    "collapsed": false
   },
   "outputs": [],
   "source": [
    "data9"
   ]
  },
  {
   "cell_type": "code",
   "execution_count": null,
   "metadata": {
    "collapsed": false
   },
   "outputs": [],
   "source": [
    "data9[data9['Name'].str.contains(r'^A|^C')]\n",
    "#the symbol ^ denotes beginning of the string"
   ]
  },
  {
   "cell_type": "code",
   "execution_count": null,
   "metadata": {
    "collapsed": false
   },
   "outputs": [],
   "source": [
    "#Datetime manipulation\n",
    "data10=data9.copy()\n",
    "data10['Date_of_Test']=['7/11/2016','7/13/2016','7/09/2016','7/10/2016','7/11/2016','7/13/2016','7/12/2016','7/14/2016']"
   ]
  },
  {
   "cell_type": "code",
   "execution_count": null,
   "metadata": {
    "collapsed": false
   },
   "outputs": [],
   "source": [
    "data10"
   ]
  },
  {
   "cell_type": "code",
   "execution_count": null,
   "metadata": {
    "collapsed": true
   },
   "outputs": [],
   "source": [
    "#Type casting\n",
    "data10['Date_of_Test']=pd.to_datetime(data10['Date_of_Test'],dayfirst=False)\n",
    "#converting into a datetime variable"
   ]
  },
  {
   "cell_type": "code",
   "execution_count": null,
   "metadata": {
    "collapsed": false,
    "scrolled": true
   },
   "outputs": [],
   "source": [
    "data10"
   ]
  },
  {
   "cell_type": "code",
   "execution_count": null,
   "metadata": {
    "collapsed": false
   },
   "outputs": [],
   "source": [
    "data10['Date_of_Test'].dtype"
   ]
  },
  {
   "cell_type": "code",
   "execution_count": null,
   "metadata": {
    "collapsed": true
   },
   "outputs": [],
   "source": [
    "#dtype('<M8[ns]') is one of the datetime formats"
   ]
  },
  {
   "cell_type": "code",
   "execution_count": null,
   "metadata": {
    "collapsed": false
   },
   "outputs": [],
   "source": [
    "print data10.ix[1,'Date_of_Test'].day\n",
    "print data10.ix[1,'Date_of_Test'].month"
   ]
  },
  {
   "cell_type": "code",
   "execution_count": null,
   "metadata": {
    "collapsed": false,
    "scrolled": true
   },
   "outputs": [],
   "source": [
    "#sorting columns\n",
    "data10.sort_values('Date_of_Test')"
   ]
  },
  {
   "cell_type": "code",
   "execution_count": null,
   "metadata": {
    "collapsed": false
   },
   "outputs": [],
   "source": [
    "data10.sort_values(['Date_of_Test','Marks'],ascending=[True,True])\n",
    "#sorting by multiple columns with changing the order; default is ascending = True"
   ]
  },
  {
   "cell_type": "markdown",
   "metadata": {
    "collapsed": true
   },
   "source": [
    "###### Group by  function to aggregate values\n",
    "\n",
    "By “group by” we are referring to a process involving one or more of the following steps\n",
    "\n",
    "* Splitting the data into groups based on some criteria\n",
    "* Applying a function to each group independently\n",
    "* Combining the results into a data structure"
   ]
  },
  {
   "cell_type": "code",
   "execution_count": null,
   "metadata": {
    "collapsed": true
   },
   "outputs": [],
   "source": [
    "#Simple Groupby function"
   ]
  },
  {
   "cell_type": "code",
   "execution_count": null,
   "metadata": {
    "collapsed": false
   },
   "outputs": [],
   "source": [
    "Find the mean score of every student"
   ]
  },
  {
   "cell_type": "code",
   "execution_count": null,
   "metadata": {
    "collapsed": false
   },
   "outputs": [],
   "source": [
    "data10.groupby('Name')['Marks'].mean()"
   ]
  },
  {
   "cell_type": "code",
   "execution_count": null,
   "metadata": {
    "collapsed": false
   },
   "outputs": [],
   "source": [
    "Find the mean score of every student based on their category of the subject they have chosen?"
   ]
  },
  {
   "cell_type": "code",
   "execution_count": null,
   "metadata": {
    "collapsed": true
   },
   "outputs": [],
   "source": [
    "Find the mean score of every student based on their category of the subject they have chosen"
   ]
  },
  {
   "cell_type": "code",
   "execution_count": null,
   "metadata": {
    "collapsed": false
   },
   "outputs": [],
   "source": [
    "Find the mean score of every student based on their category of the subject they have chosen"
   ]
  },
  {
   "cell_type": "code",
   "execution_count": null,
   "metadata": {
    "collapsed": true
   },
   "outputs": [],
   "source": [
    "# Groupby function with multiple columns"
   ]
  },
  {
   "cell_type": "code",
   "execution_count": null,
   "metadata": {
    "collapsed": false
   },
   "outputs": [],
   "source": [
    "data10.groupby(['Name','Subject_Category'])['Marks'].mean()"
   ]
  },
  {
   "cell_type": "code",
   "execution_count": null,
   "metadata": {
    "collapsed": true
   },
   "outputs": [],
   "source": [
    "# Groupby using dictionary "
   ]
  },
  {
   "cell_type": "markdown",
   "metadata": {},
   "source": [
    "Group every student into North indian or South indian category based on their Location"
   ]
  },
  {
   "cell_type": "code",
   "execution_count": null,
   "metadata": {
    "collapsed": false
   },
   "outputs": [],
   "source": [
    "Demography={'Delhi':'North','Hyderabad':'South','Chennai':'South','Gurgaon':'North'}\n",
    "Grouped=data10.set_index(\"Location\").groupby(Demography)\n",
    "list(Grouped)\n"
   ]
  },
  {
   "cell_type": "code",
   "execution_count": null,
   "metadata": {
    "collapsed": false
   },
   "outputs": [],
   "source": [
    "#Pivot Table Creation\n",
    "data10\n"
   ]
  },
  {
   "cell_type": "markdown",
   "metadata": {},
   "source": [
    "Find the total marks scored by every student on all subjects"
   ]
  },
  {
   "cell_type": "code",
   "execution_count": null,
   "metadata": {
    "collapsed": false
   },
   "outputs": [],
   "source": [
    "table = pd.pivot_table(data10, values='Marks', index='Name',\n",
    "                        aggfunc=np.sum)\n",
    "table"
   ]
  },
  {
   "cell_type": "code",
   "execution_count": null,
   "metadata": {
    "collapsed": true
   },
   "outputs": [],
   "source": [
    "Find the total marks scored by every student on all subjects across Location ?"
   ]
  },
  {
   "cell_type": "code",
   "execution_count": null,
   "metadata": {
    "collapsed": false
   },
   "outputs": [],
   "source": [
    "table = pd.pivot_table(data10, values='Marks', index='Name',\n",
    "                        columns=['Location'], aggfunc=np.sum)\n",
    "table"
   ]
  },
  {
   "cell_type": "code",
   "execution_count": null,
   "metadata": {
    "collapsed": false,
    "scrolled": true
   },
   "outputs": [],
   "source": [
    "# Cross tabulation- A statistical tool to analyse categorical data\n",
    "data5=pd.DataFrame()\n",
    "data5=pd.read_csv(r'Cosstab-Student.csv',error_bad_lines=False)\n",
    "data5"
   ]
  },
  {
   "cell_type": "code",
   "execution_count": null,
   "metadata": {
    "collapsed": true
   },
   "outputs": [],
   "source": [
    "#What are the subjects which are popular among students?"
   ]
  },
  {
   "cell_type": "code",
   "execution_count": null,
   "metadata": {
    "collapsed": false
   },
   "outputs": [],
   "source": [
    "#One-Way Tables\n",
    "my_tab = pd.crosstab(index=data5[\"Subjects\"],  # Make a crosstab\n",
    "                              columns=\"count\")      # Name the count column\n",
    "my_tab"
   ]
  },
  {
   "cell_type": "code",
   "execution_count": null,
   "metadata": {
    "collapsed": true
   },
   "outputs": [],
   "source": [
    "#What are the subjects which are popular among students based on gender?"
   ]
  },
  {
   "cell_type": "code",
   "execution_count": null,
   "metadata": {
    "collapsed": false
   },
   "outputs": [],
   "source": [
    "#Two-Way Tables\n",
    "my_tab = pd.crosstab(index=data5[\"Subjects\"],  # Make a crosstab\n",
    "                              columns=data5[\"Gender\"])      \n",
    "my_tab"
   ]
  },
  {
   "cell_type": "code",
   "execution_count": null,
   "metadata": {
    "collapsed": false
   },
   "outputs": [],
   "source": [
    "#Reading from json-Traditional Method\n",
    "import json\n",
    "from pprint import pprint\n",
    "\n",
    "with open('Demographics.json') as data_file:    \n",
    "    data = json.load(data_file)\n",
    "\n",
    "pprint(data)"
   ]
  },
  {
   "cell_type": "code",
   "execution_count": null,
   "metadata": {
    "collapsed": false
   },
   "outputs": [],
   "source": [
    "print data[\"Country\"][\"id\"]\n",
    "print '\\n'\n",
    "print data[\"State\"][\"id\"]\n",
    "print '\\n'\n",
    "print data[\"Population\"]"
   ]
  },
  {
   "cell_type": "code",
   "execution_count": null,
   "metadata": {
    "collapsed": false
   },
   "outputs": [],
   "source": [
    "#Reading from json-Using Pandas\n",
    "\n",
    "print pd.read_json('Demographics.json')"
   ]
  },
  {
   "cell_type": "code",
   "execution_count": null,
   "metadata": {
    "collapsed": false
   },
   "outputs": [],
   "source": [
    "from IPython.display import Image\n",
    "Image('thanks.jpg') "
   ]
  }
 ],
 "metadata": {
  "anaconda-cloud": {},
  "kernelspec": {
   "display_name": "Python 2",
   "language": "python",
   "name": "python2"
  },
  "language_info": {
   "codemirror_mode": {
    "name": "ipython",
    "version": 2
   },
   "file_extension": ".py",
   "mimetype": "text/x-python",
   "name": "python",
   "nbconvert_exporter": "python",
   "pygments_lexer": "ipython2",
   "version": "2.7.11"
  }
 },
 "nbformat": 4,
 "nbformat_minor": 0
}
