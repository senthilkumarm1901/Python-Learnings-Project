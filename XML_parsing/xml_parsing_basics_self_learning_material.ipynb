{
 "cells": [
  {
   "cell_type": "markdown",
   "metadata": {},
   "source": [
    "My learning material prepared piecing together elements from <br>\n",
    "- [**Datacamp for parsing XML using ElementTree**](https://www.datacamp.com/community/tutorials/python-xml-elementtree)\n",
    "- [**Tutorialspoint**](https://www.tutorialspoint.com/xml/)\n",
    "- [**W3schools**](https://www.w3schools.com/Xml/)\n",
    "- [**How to parse XML using Minidom**](https://www.guru99.com/manipulating-xml-with-python.html)"
   ]
  },
  {
   "cell_type": "markdown",
   "metadata": {},
   "source": [
    "**What is XML?** <br>\n",
    "- XML stands for \"Extensible **Markup** Language\". \n",
    "    - It is mainly used in *webpages*, where the data has a specific structure and is understood dynamically by the XML framework.\n",
    "- XML creates *a tree-like structure* that is easy to interpret and supports a hierarchy. \n",
    "    - Whenever a page follows XML, it can be called an *XML document*\n",
    "- XML document consists of *elements* --> defined by a starting tag '<' and an ending tag '>'\n",
    "- Elements can have sub-elements a.k.a 'Child elements'\n",
    "- Largest, top-level element is called the *root*, which contains all other elements\n",
    "- Attributes are name-value pairs"
   ]
  },
  {
   "cell_type": "markdown",
   "metadata": {},
   "source": [
    "###### Gender as an attribute"
   ]
  },
  {
   "cell_type": "raw",
   "metadata": {},
   "source": [
    "<person gender=\"female\">\n",
    "  <firstname>Anna</firstname>\n",
    "  <lastname>Smith</lastname>\n",
    "</person>"
   ]
  },
  {
   "cell_type": "markdown",
   "metadata": {},
   "source": [
    "###### In Markdown format\n",
    "<person gender=\"female\">\n",
    "  <firstname>Anna</firstname>\n",
    "  <lastname>Smith</lastname>\n",
    "</person>"
   ]
  },
  {
   "cell_type": "markdown",
   "metadata": {},
   "source": [
    "###### Gender as an element"
   ]
  },
  {
   "cell_type": "raw",
   "metadata": {},
   "source": [
    "<person>\n",
    "  <gender>female</gender>\n",
    "  <firstname>Anna</firstname>\n",
    "  <lastname>Smith</lastname>\n",
    "</person>"
   ]
  },
  {
   "cell_type": "markdown",
   "metadata": {},
   "source": [
    "###### In Markdown format\n",
    "<person>\n",
    "  <gender>female</gender>\n",
    "  <firstname>Anna</firstname>\n",
    "  <lastname>Smith</lastname>\n",
    "</person>"
   ]
  },
  {
   "cell_type": "markdown",
   "metadata": {},
   "source": [
    "###### Conclusion: Content of an element is displayed, but attributes are not displayed"
   ]
  },
  {
   "cell_type": "markdown",
   "metadata": {},
   "source": [
    "###### An element can have multiple attributes"
   ]
  },
  {
   "cell_type": "raw",
   "metadata": {},
   "source": [
    "<element-name attribute1 attribute2 >\n",
    "....content..\n",
    "</element-name>"
   ]
  },
  {
   "cell_type": "markdown",
   "metadata": {},
   "source": [
    "###### E.g. of an element with multiple attributes and child elements"
   ]
  },
  {
   "cell_type": "raw",
   "metadata": {},
   "source": [
    "<movie favorite=\"True\" title=\"THE KARATE KID\">\n",
    "   <format multiple=\"Yes\">DVD,Online</format>\n",
    "   <year>1984</year>\n",
    "   <rating>PG</rating>\n",
    "   <description>None provided.</description>\n",
    "</movie>"
   ]
  },
  {
   "cell_type": "markdown",
   "metadata": {},
   "source": [
    "###### Python's built in library for XML parsing <br> 1. `ElementTree`"
   ]
  },
  {
   "cell_type": "code",
   "execution_count": 52,
   "metadata": {
    "collapsed": true
   },
   "outputs": [],
   "source": [
    "import xml.etree.ElementTree as ET"
   ]
  },
  {
   "cell_type": "code",
   "execution_count": 53,
   "metadata": {
    "collapsed": true
   },
   "outputs": [],
   "source": [
    "import re"
   ]
  },
  {
   "cell_type": "markdown",
   "metadata": {},
   "source": [
    "###### Parsing XML Data"
   ]
  },
  {
   "cell_type": "code",
   "execution_count": 54,
   "metadata": {
    "collapsed": true
   },
   "outputs": [],
   "source": [
    "tree = ET.parse(\"movies_incorrect.xml\")\n",
    "root = tree.getroot()"
   ]
  },
  {
   "cell_type": "code",
   "execution_count": 55,
   "metadata": {
    "collapsed": false
   },
   "outputs": [
    {
     "data": {
      "text/plain": [
       "<Element 'collection' at 0x2b5dcfe29408>"
      ]
     },
     "execution_count": 55,
     "metadata": {},
     "output_type": "execute_result"
    }
   ],
   "source": [
    "root"
   ]
  },
  {
   "cell_type": "code",
   "execution_count": 56,
   "metadata": {
    "collapsed": false
   },
   "outputs": [
    {
     "name": "stdout",
     "output_type": "stream",
     "text": [
      "Name of root: collection\n",
      "Attriubutes of root: {}\n"
     ]
    }
   ],
   "source": [
    "print(\"Name of root:\",root.tag)\n",
    "print(\"Attriubutes of root:\",root.attrib)"
   ]
  },
  {
   "cell_type": "code",
   "execution_count": 57,
   "metadata": {
    "collapsed": false
   },
   "outputs": [
    {
     "name": "stdout",
     "output_type": "stream",
     "text": [
      "genre {'category': 'Action'}\n",
      "genre {'category': 'Thriller'}\n",
      "genre {'category': 'Comedy'}\n"
     ]
    }
   ],
   "source": [
    "for child in root:\n",
    "    print(child.tag, child.attrib)"
   ]
  },
  {
   "cell_type": "markdown",
   "metadata": {},
   "source": [
    "The children of the root `collection` are all `genre` <br>\n",
    "To designate the `genre`, the XML uses the attribute `category`"
   ]
  },
  {
   "cell_type": "code",
   "execution_count": 58,
   "metadata": {
    "collapsed": false
   },
   "outputs": [
    {
     "data": {
      "text/plain": [
       "<_elementtree._element_iterator at 0x2b5dcfd9ae60>"
      ]
     },
     "execution_count": 58,
     "metadata": {},
     "output_type": "execute_result"
    }
   ],
   "source": [
    "root.iter()"
   ]
  },
  {
   "cell_type": "code",
   "execution_count": 59,
   "metadata": {
    "collapsed": false
   },
   "outputs": [
    {
     "name": "stdout",
     "output_type": "stream",
     "text": [
      "['collection', 'genre', 'decade', 'movie', 'format', 'year', 'rating', 'description', 'movie', 'format', 'year', 'rating', 'description', 'movie', 'format', 'year', 'rating', 'description', 'decade', 'movie', 'format', 'year', 'rating', 'description', 'movie', 'format', 'year', 'rating', 'description', 'movie', 'format', 'year', 'rating', 'description', 'genre', 'decade', 'movie', 'format', 'year', 'rating', 'description', 'decade', 'movie', 'format', 'year', 'rating', 'description', 'movie', 'format', 'year', 'rating', 'description', 'genre', 'decade', 'movie', 'format', 'year', 'rating', 'description', 'decade', 'movie', 'format', 'year', 'rating', 'description', 'movie', 'format', 'year', 'rating', 'description', 'decade', 'movie', 'format', 'year', 'rating', 'description', 'decade', 'movie', 'format', 'year', 'rating', 'description']\n"
     ]
    }
   ],
   "source": [
    "# all elements under root (In other words, all elements in the whole document)\n",
    "print([elem.tag for elem in root.iter()])"
   ]
  },
  {
   "cell_type": "code",
   "execution_count": 60,
   "metadata": {
    "collapsed": false
   },
   "outputs": [
    {
     "data": {
      "text/plain": [
       "[<Element 'movie' at 0x2b5dcfeca0e8>,\n",
       " <Element 'movie' at 0x2b5dcfeca048>,\n",
       " <Element 'movie' at 0x2b5dcfeca548>,\n",
       " <Element 'movie' at 0x2b5dcfeca728>,\n",
       " <Element 'movie' at 0x2b5dcfeca8b8>,\n",
       " <Element 'movie' at 0x2b5dcfecaa48>,\n",
       " <Element 'movie' at 0x2b5dcfecac78>,\n",
       " <Element 'movie' at 0x2b5dcfecaea8>,\n",
       " <Element 'movie' at 0x2b5dcfebd0e8>,\n",
       " <Element 'movie' at 0x2b5dcfebd318>,\n",
       " <Element 'movie' at 0x2b5dcfebd4f8>,\n",
       " <Element 'movie' at 0x2b5dcfebd6d8>,\n",
       " <Element 'movie' at 0x2b5dcfebd8b8>,\n",
       " <Element 'movie' at 0x2b5dcfebdae8>]"
      ]
     },
     "execution_count": 60,
     "metadata": {},
     "output_type": "execute_result"
    }
   ],
   "source": [
    "[element for element in root.iter('movie')]"
   ]
  },
  {
   "cell_type": "code",
   "execution_count": 61,
   "metadata": {
    "collapsed": false
   },
   "outputs": [
    {
     "data": {
      "text/plain": [
       "[<Element 'movie' at 0x2b5dcfeca0e8>,\n",
       " <Element 'movie' at 0x2b5dcfeca048>,\n",
       " <Element 'movie' at 0x2b5dcfeca548>,\n",
       " <Element 'movie' at 0x2b5dcfeca728>,\n",
       " <Element 'movie' at 0x2b5dcfeca8b8>,\n",
       " <Element 'movie' at 0x2b5dcfecaa48>,\n",
       " <Element 'movie' at 0x2b5dcfecac78>,\n",
       " <Element 'movie' at 0x2b5dcfecaea8>,\n",
       " <Element 'movie' at 0x2b5dcfebd0e8>,\n",
       " <Element 'movie' at 0x2b5dcfebd318>,\n",
       " <Element 'movie' at 0x2b5dcfebd4f8>,\n",
       " <Element 'movie' at 0x2b5dcfebd6d8>,\n",
       " <Element 'movie' at 0x2b5dcfebd8b8>,\n",
       " <Element 'movie' at 0x2b5dcfebdae8>]"
      ]
     },
     "execution_count": 61,
     "metadata": {},
     "output_type": "execute_result"
    }
   ],
   "source": [
    "tree.getiterator('movie')"
   ]
  },
  {
   "cell_type": "code",
   "execution_count": 62,
   "metadata": {
    "collapsed": false
   },
   "outputs": [
    {
     "data": {
      "text/plain": [
       "[<Element 'genre' at 0x2b5dcfe292c8>,\n",
       " <Element 'genre' at 0x2b5dcfecabd8>,\n",
       " <Element 'genre' at 0x2b5dcfebd278>]"
      ]
     },
     "execution_count": 62,
     "metadata": {},
     "output_type": "execute_result"
    }
   ],
   "source": [
    "tree.getiterator('genre')"
   ]
  },
  {
   "cell_type": "code",
   "execution_count": 63,
   "metadata": {
    "collapsed": false
   },
   "outputs": [
    {
     "name": "stdout",
     "output_type": "stream",
     "text": [
      "<?xml version='1.0' encoding='utf8'?>\n",
      "<genre category=\"Action\">\n",
      "        <decade years=\"1980s\">\n",
      "            <movie favorite=\"True\" title=\"Indiana Jones: The raiders of the lost Ark\">\n",
      "                <format multiple=\"No\">DVD</format>\n",
      "                <year>1981</year>\n",
      "                <rating>PG</rating>\n",
      "                <description>\n",
      "                'Archaeologist and adventurer Indiana Jones \n",
      "                is hired by the U.S. government to find the Ark of the \n",
      "                Covenant before the Nazis.'\n",
      "                </description>\n",
      "            </movie>\n",
      "               <movie favorite=\"True\" title=\"THE KARATE KID\">\n",
      "               <format multiple=\"Yes\">DVD,Online</format>\n",
      "               <year>1984</year>\n",
      "               <rating>PG</rating>\n",
      "               <description>None provided.</description>\n",
      "            </movie>\n",
      "            <movie favorite=\"False\" title=\"Back 2 the Future\">\n",
      "               <format multiple=\"False\">Blu-ray</format>\n",
      "               <year>1985</year>\n",
      "               <rating>PG</rating>\n",
      "               <description>Marty McFly</description>\n",
      "            </movie>\n",
      "        </decade>\n",
      "        <decade years=\"1990s\">\n",
      "            <movie favorite=\"False\" title=\"X-Men\">\n",
      "               <format multiple=\"Yes\">dvd, digital</format>\n",
      "               <year>2000</year>\n",
      "               <rating>PG-13</rating>\n",
      "               <description>Two mutants come to a private academy for their kind whose resident superhero team must \n",
      "               oppose a terrorist organization with similar powers.</description>\n",
      "            </movie>\n",
      "            <movie favorite=\"True\" title=\"Batman Returns\">\n",
      "               <format multiple=\"No\">VHS</format>\n",
      "               <year>1992</year>\n",
      "               <rating>PG13</rating>\n",
      "               <description>NA.</description>\n",
      "            </movie>\n",
      "               <movie favorite=\"False\" title=\"Reservoir Dogs\">\n",
      "               <format multiple=\"No\">Online</format>\n",
      "               <year>1992</year>\n",
      "               <rating>R</rating>\n",
      "               <description>WhAtEvER I Want!!!?!</description>\n",
      "            </movie>\n",
      "        </decade>    \n",
      "    </genre>\n",
      "\n",
      "    \n"
     ]
    }
   ],
   "source": [
    "print(ET.tostring(tree.getiterator('genre')[0], encoding='utf8').decode('utf8'))"
   ]
  },
  {
   "cell_type": "markdown",
   "metadata": {},
   "source": [
    "###### For identifying attributes in an element"
   ]
  },
  {
   "cell_type": "code",
   "execution_count": 64,
   "metadata": {
    "collapsed": false
   },
   "outputs": [
    {
     "name": "stdout",
     "output_type": "stream",
     "text": [
      "{'favorite': 'True', 'title': 'Indiana Jones: The raiders of the lost Ark'}\n",
      "{'favorite': 'True', 'title': 'THE KARATE KID'}\n",
      "{'favorite': 'False', 'title': 'Back 2 the Future'}\n",
      "{'favorite': 'False', 'title': 'X-Men'}\n",
      "{'favorite': 'True', 'title': 'Batman Returns'}\n",
      "{'favorite': 'False', 'title': 'Reservoir Dogs'}\n",
      "{'favorite': 'False', 'title': 'ALIEN'}\n",
      "{'favorite': 'True', 'title': \"Ferris Bueller's Day Off\"}\n",
      "{'favorite': 'FALSE', 'title': 'American Psycho'}\n",
      "{'favorite': 'False', 'title': 'Batman: The Movie'}\n",
      "{'favorite': 'True', 'title': 'Easy A'}\n",
      "{'favorite': 'True', 'title': 'Dinner for SCHMUCKS'}\n",
      "{'favorite': 'False', 'title': 'Ghostbusters'}\n",
      "{'favorite': 'True', 'title': 'Robin Hood: Prince of Thieves'}\n"
     ]
    }
   ],
   "source": [
    "for movie in root.iter('movie'):\n",
    "    print(movie.attrib)"
   ]
  },
  {
   "cell_type": "markdown",
   "metadata": {},
   "source": [
    "###### If no attributes, we can use `text` method to fetch the value of an element"
   ]
  },
  {
   "cell_type": "code",
   "execution_count": 65,
   "metadata": {
    "collapsed": false
   },
   "outputs": [
    {
     "name": "stdout",
     "output_type": "stream",
     "text": [
      "\n",
      "                'Archaeologist and adventurer Indiana Jones \n",
      "                is hired by the U.S. government to find the Ark of the \n",
      "                Covenant before the Nazis.'\n",
      "                \n",
      "None provided.\n",
      "Marty McFly\n",
      "Two mutants come to a private academy for their kind whose resident superhero team must \n",
      "               oppose a terrorist organization with similar powers.\n",
      "NA.\n",
      "WhAtEvER I Want!!!?!\n",
      "\"\"\"\"\"\"\"\"\"\n",
      "Funny movie about a funny guy\n",
      "psychopathic Bateman\n",
      "What a joke!\n",
      "Emma Stone = Hester Prynne\n",
      "Tim (Rudd) is a rising executive\n",
      "                 who “succeeds” in finding the perfect guest, \n",
      "                 IRS employee Barry (Carell), for his boss’ monthly event, \n",
      "                 a so-called “dinner for idiots,” which offers certain \n",
      "                 advantages to the exec who shows up with the biggest buffoon.\n",
      "                 \n",
      "Who ya gonna call?\n",
      "Robin Hood slaying\n"
     ]
    }
   ],
   "source": [
    "for description in root.iter('description'):\n",
    "    print(description.text)"
   ]
  },
  {
   "cell_type": "markdown",
   "metadata": {},
   "source": [
    "###### Use of Xpath"
   ]
  },
  {
   "cell_type": "code",
   "execution_count": 66,
   "metadata": {
    "collapsed": false
   },
   "outputs": [
    {
     "name": "stdout",
     "output_type": "stream",
     "text": [
      "{'favorite': 'True', 'title': 'Indiana Jones: The raiders of the lost Ark'}\n",
      "{'favorite': 'True', 'title': 'THE KARATE KID'}\n",
      "{'favorite': 'False', 'title': 'Back 2 the Future'}\n",
      "{'favorite': 'False', 'title': 'X-Men'}\n",
      "{'favorite': 'True', 'title': 'Batman Returns'}\n",
      "{'favorite': 'False', 'title': 'Reservoir Dogs'}\n",
      "{'favorite': 'False', 'title': 'ALIEN'}\n",
      "{'favorite': 'True', 'title': \"Ferris Bueller's Day Off\"}\n",
      "{'favorite': 'FALSE', 'title': 'American Psycho'}\n",
      "{'favorite': 'False', 'title': 'Batman: The Movie'}\n",
      "{'favorite': 'True', 'title': 'Easy A'}\n",
      "{'favorite': 'True', 'title': 'Dinner for SCHMUCKS'}\n",
      "{'favorite': 'False', 'title': 'Ghostbusters'}\n",
      "{'favorite': 'True', 'title': 'Robin Hood: Prince of Thieves'}\n"
     ]
    }
   ],
   "source": [
    "for movie in root.findall(\"./genre/decade/movie\"):\n",
    "    print(movie.attrib)"
   ]
  },
  {
   "cell_type": "code",
   "execution_count": 67,
   "metadata": {
    "collapsed": false
   },
   "outputs": [
    {
     "name": "stdout",
     "output_type": "stream",
     "text": [
      "{'favorite': 'True', 'title': 'Batman Returns'}\n",
      "{'favorite': 'False', 'title': 'Reservoir Dogs'}\n"
     ]
    }
   ],
   "source": [
    "for movie in root.findall(\"./genre/decade/movie/[year='1992']\"):\n",
    "    print(movie.attrib)"
   ]
  },
  {
   "cell_type": "code",
   "execution_count": 68,
   "metadata": {
    "collapsed": false
   },
   "outputs": [
    {
     "name": "stdout",
     "output_type": "stream",
     "text": [
      "{'favorite': 'False', 'title': 'X-Men'}\n",
      "{'favorite': 'True', 'title': 'Batman Returns'}\n",
      "{'favorite': 'False', 'title': 'Reservoir Dogs'}\n",
      "{'favorite': 'True', 'title': 'Robin Hood: Prince of Thieves'}\n"
     ]
    }
   ],
   "source": [
    "for element in root.findall(\"./genre/decade[@years='1990s']/movie/.\"):\n",
    "    print(element.attrib)"
   ]
  },
  {
   "cell_type": "code",
   "execution_count": 69,
   "metadata": {
    "collapsed": false
   },
   "outputs": [
    {
     "name": "stdout",
     "output_type": "stream",
     "text": [
      "{'years': '1990s'}\n",
      "\n",
      "            \n",
      "{'years': '1990s'}\n",
      "\n",
      "            \n"
     ]
    }
   ],
   "source": [
    "# taking 1 step back\n",
    "for element in root.findall(\"./genre/decade[@years='1990s']/movie/..\"):\n",
    "    print(element.attrib)\n",
    "    print(element.text)"
   ]
  },
  {
   "cell_type": "code",
   "execution_count": 70,
   "metadata": {
    "collapsed": false
   },
   "outputs": [
    {
     "name": "stdout",
     "output_type": "stream",
     "text": [
      "{'years': '1990s'}\n",
      "\n",
      "            \n",
      "{'years': '1990s'}\n",
      "\n",
      "            \n"
     ]
    }
   ],
   "source": [
    "# taking 2 steps back\n",
    "for element in root.findall(\"./genre/decade[@years='1990s']/movie/...\"):\n",
    "    print(element.attrib)\n",
    "    print(element.text)"
   ]
  },
  {
   "cell_type": "code",
   "execution_count": 71,
   "metadata": {
    "collapsed": false
   },
   "outputs": [
    {
     "name": "stdout",
     "output_type": "stream",
     "text": [
      "{'category': 'Action'}\n",
      "\n",
      "        \n",
      "{'category': 'Comedy'}\n",
      "\n",
      "        \n"
     ]
    }
   ],
   "source": [
    "# taking 3 steps back\n",
    "for element in root.findall(\"./genre/decade[@years='1990s']/movie/....\"):\n",
    "    print(element.attrib)\n",
    "    print(element.text)"
   ]
  },
  {
   "cell_type": "code",
   "execution_count": 72,
   "metadata": {
    "collapsed": false
   },
   "outputs": [
    {
     "name": "stdout",
     "output_type": "stream",
     "text": [
      "{'multiple': 'Yes'}\n",
      "dvd, digital\n",
      "{'multiple': 'No'}\n",
      "VHS\n",
      "{'multiple': 'No'}\n",
      "Online\n",
      "{'multiple': 'No'}\n",
      "Blu_Ray\n"
     ]
    }
   ],
   "source": [
    "for element in root.findall(\"./genre/decade[@years='1990s']/movie/format/.\"):\n",
    "    print(element.attrib)\n",
    "    print(element.text)"
   ]
  },
  {
   "cell_type": "markdown",
   "metadata": {},
   "source": [
    "###### Correcting in accuracies in the XML"
   ]
  },
  {
   "cell_type": "code",
   "execution_count": 73,
   "metadata": {
    "collapsed": false
   },
   "outputs": [
    {
     "name": "stdout",
     "output_type": "stream",
     "text": [
      "\n",
      "Indiana Jones: The raiders of the lost Ark\n",
      "******\n",
      "format :  {'multiple': 'No'}\n",
      "format :  DVD\n",
      "year :  1981\n",
      "rating :  PG\n",
      "description :  \n",
      "                'Archaeologist and adventurer Indiana Jones \n",
      "                is hired by the U.S. government to find the Ark of the \n",
      "                Covenant before the Nazis.'\n",
      "                \n",
      "\n",
      "Batman Returns\n",
      "******\n",
      "format :  {'multiple': 'No'}\n",
      "format :  VHS\n",
      "year :  1992\n",
      "rating :  PG13\n",
      "description :  NA.\n",
      "\n",
      "Reservoir Dogs\n",
      "******\n",
      "format :  {'multiple': 'No'}\n",
      "format :  Online\n",
      "year :  1992\n",
      "rating :  R\n",
      "description :  WhAtEvER I Want!!!?!\n",
      "\n",
      "Ferris Bueller's Day Off\n",
      "******\n",
      "format :  {'multiple': 'No'}\n",
      "format :  DVD\n",
      "year :  1986\n",
      "rating :  PG13\n",
      "description :  Funny movie about a funny guy\n",
      "\n",
      "American Psycho\n",
      "******\n",
      "format :  {'multiple': 'No'}\n",
      "format :  blue-ray\n",
      "year :  2000\n",
      "rating :  Unrated\n",
      "description :  psychopathic Bateman\n",
      "\n",
      "Easy A\n",
      "******\n",
      "format :  {'multiple': 'No'}\n",
      "format :  DVD\n",
      "year :  2010\n",
      "rating :  PG--13\n",
      "description :  Emma Stone = Hester Prynne\n",
      "\n",
      "Ghostbusters\n",
      "******\n",
      "format :  {'multiple': 'No'}\n",
      "format :  Online,VHS\n",
      "year :  1984\n",
      "rating :  PG\n",
      "description :  Who ya gonna call?\n",
      "\n",
      "Robin Hood: Prince of Thieves\n",
      "******\n",
      "format :  {'multiple': 'No'}\n",
      "format :  Blu_Ray\n",
      "year :  1991\n",
      "rating :  Unknown\n",
      "description :  Robin Hood slaying\n"
     ]
    }
   ],
   "source": [
    "for element in root.findall(\"./genre/decade/movie/format[@multiple='No']/..\"):\n",
    "    print()\n",
    "    print(element.attrib['title'])\n",
    "    print(\"******\")\n",
    "    for sub_element in element:\n",
    "        if sub_element.attrib!={}:\n",
    "            print(sub_element.tag,\": \",sub_element.attrib)\n",
    "        print(sub_element.tag,\": \",sub_element.text)"
   ]
  },
  {
   "cell_type": "code",
   "execution_count": 74,
   "metadata": {
    "collapsed": false
   },
   "outputs": [
    {
     "name": "stdout",
     "output_type": "stream",
     "text": [
      "Ghostbusters\n",
      "****\n",
      "{'multiple': 'No'} Online,VHS\n"
     ]
    }
   ],
   "source": [
    "# where mistake is\n",
    "for element in root.findall(\"./genre/decade/movie\"):\n",
    "    for sub_element in element:\n",
    "        if sub_element.tag=='format':\n",
    "            if re.search(\",\",sub_element.text) and sub_element.attrib['multiple']=='No':\n",
    "                print(element.attrib['title'])\n",
    "                print(\"****\")\n",
    "                print(sub_element.attrib, sub_element.text)"
   ]
  },
  {
   "cell_type": "code",
   "execution_count": 75,
   "metadata": {
    "collapsed": false
   },
   "outputs": [
    {
     "name": "stdout",
     "output_type": "stream",
     "text": [
      "Ghostbusters\n",
      "****\n",
      "format :\n",
      "{'multiple': 'No'}\n",
      "Online,VHS\n",
      "\n",
      "year :\n",
      "1984\n",
      "\n",
      "rating :\n",
      "PG\n",
      "\n",
      "description :\n",
      "Who ya gonna call?\n",
      "\n"
     ]
    }
   ],
   "source": [
    "# where mistake is\n",
    "for element in root.findall(\"./genre/decade/movie\"):\n",
    "    for sub_element in element:\n",
    "        if sub_element.tag=='format':\n",
    "            if re.search(\",\",sub_element.text) and sub_element.attrib['multiple']=='No':\n",
    "                print(element.attrib['title'])\n",
    "                print(\"****\")\n",
    "                for sub_element in element:\n",
    "                    print(sub_element.tag,\":\")\n",
    "                    if sub_element.attrib!={}:\n",
    "                        print(sub_element.attrib)\n",
    "                    if sub_element.text!='':\n",
    "                        print(sub_element.text)\n",
    "                    print()"
   ]
  },
  {
   "cell_type": "code",
   "execution_count": 76,
   "metadata": {
    "collapsed": true
   },
   "outputs": [],
   "source": [
    "# how to rectify the mistake\n",
    "for form in root.findall(\"./genre/decade/movie/format\"):\n",
    "    # Search for the commas in the format text\n",
    "    match = re.search(',',form.text)\n",
    "    if match:\n",
    "        form.set('multiple','Yes')\n",
    "    else:\n",
    "        form.set('multiple','No')"
   ]
  },
  {
   "cell_type": "code",
   "execution_count": 77,
   "metadata": {
    "collapsed": false
   },
   "outputs": [
    {
     "name": "stdout",
     "output_type": "stream",
     "text": [
      "<?xml version='1.0' encoding='utf8'?>\n",
      "<movie favorite=\"False\" title=\"Ghostbusters\">\n",
      "                <format multiple=\"Yes\">Online,VHS</format>\n",
      "                <year>1984</year>\n",
      "                <rating>PG</rating>\n",
      "                <description>Who ya gonna call?</description>\n",
      "            </movie>\n",
      "        \n"
     ]
    }
   ],
   "source": [
    "# rectified the tree\n",
    "for element in root.findall(\"./genre/decade/movie\"):\n",
    "    if element.attrib['title']=='Ghostbusters':\n",
    "        print(ET.tostring(element,encoding='utf8').decode('utf8'))"
   ]
  },
  {
   "cell_type": "code",
   "execution_count": 78,
   "metadata": {
    "collapsed": true
   },
   "outputs": [],
   "source": [
    "# write that to the xml file again\n",
    "tree.write(\"movies_correct.xml\")"
   ]
  },
  {
   "cell_type": "markdown",
   "metadata": {},
   "source": [
    "###### Moving elements "
   ]
  },
  {
   "cell_type": "code",
   "execution_count": 79,
   "metadata": {
    "collapsed": false
   },
   "outputs": [
    {
     "name": "stdout",
     "output_type": "stream",
     "text": [
      "{'years': '1980s'}\n",
      "1981 \n",
      "\n",
      "1984 \n",
      "\n",
      "1985 \n",
      "\n",
      "{'years': '1990s'}\n",
      "2000 \n",
      "\n",
      "1992 \n",
      "\n",
      "1992 \n",
      "\n",
      "{'years': '1970s'}\n",
      "1979 \n",
      "\n",
      "{'years': '1980s'}\n",
      "1986 \n",
      "\n",
      "2000 \n",
      "\n",
      "{'years': '1960s'}\n",
      "1966 \n",
      "\n",
      "{'years': '2010s'}\n",
      "2010 \n",
      "\n",
      "2011 \n",
      "\n",
      "{'years': '1980s'}\n",
      "1984 \n",
      "\n",
      "{'years': '1990s'}\n",
      "1991 \n",
      "\n"
     ]
    }
   ],
   "source": [
    "for decade in root.findall(\"./genre/decade\"):\n",
    "    print(decade.attrib)\n",
    "    for year in decade.findall(\"./movie/year\"):\n",
    "        print(year.text, '\\n')"
   ]
  },
  {
   "cell_type": "code",
   "execution_count": 80,
   "metadata": {
    "collapsed": false
   },
   "outputs": [
    {
     "name": "stdout",
     "output_type": "stream",
     "text": [
      "{'category': 'Action'}\n",
      "{'category': 'Thriller'}\n",
      "{'category': 'Comedy'}\n"
     ]
    }
   ],
   "source": [
    "for genre in root.findall('./genre'):\n",
    "    print(genre.attrib)"
   ]
  },
  {
   "cell_type": "code",
   "execution_count": 81,
   "metadata": {
    "collapsed": false
   },
   "outputs": [
    {
     "name": "stdout",
     "output_type": "stream",
     "text": [
      "X-Men\n",
      "{'category': 'Action'}\n",
      "{'years': '1990s'}\n",
      "2000\n",
      "American Psycho\n",
      "{'category': 'Thriller'}\n",
      "{'years': '1980s'}\n",
      "2000\n"
     ]
    }
   ],
   "source": [
    "for genre in root.findall(\"./genre\"):\n",
    "    for decade in genre.findall(\"./decade\"):\n",
    "        for movie in decade.findall(\"./movie/[year='2000']\"):\n",
    "            print(movie.attrib['title'])\n",
    "            print(genre.attrib)\n",
    "            print(decade.attrib)\n",
    "            for sub_element in movie:\n",
    "                if sub_element.tag=='year':\n",
    "                    print(sub_element.text)"
   ]
  },
  {
   "cell_type": "markdown",
   "metadata": {},
   "source": [
    "*X-Men and American Psycho released in 2000 are in wrong decades and in Thriller and Action genres*"
   ]
  },
  {
   "cell_type": "markdown",
   "metadata": {},
   "source": [
    "###### Adding a SubElement to a tree"
   ]
  },
  {
   "cell_type": "markdown",
   "metadata": {},
   "source": [
    "###### Creating new elements new_decade_action and new_decade_thriller in action and thriller genres respectively"
   ]
  },
  {
   "cell_type": "code",
   "execution_count": 82,
   "metadata": {
    "collapsed": true
   },
   "outputs": [],
   "source": [
    "action = root.find(\"./genre[@category='Action']\")\n",
    "thriller = root.find(\"./genre[@category='Thriller']\")\n",
    "new_dec_action = ET.SubElement(action, 'decade')\n",
    "new_dec_thriller = ET.SubElement(thriller, 'decade')\n",
    "new_dec_action.attrib[\"years\"] = '2000s'\n",
    "new_dec_thriller.attrib[\"years\"] = '2000s'"
   ]
  },
  {
   "cell_type": "code",
   "execution_count": 83,
   "metadata": {
    "collapsed": false
   },
   "outputs": [
    {
     "name": "stdout",
     "output_type": "stream",
     "text": [
      "<?xml version='1.0' encoding='utf8'?>\n",
      "<genre category=\"Action\">\n",
      "        <decade years=\"1980s\">\n",
      "            <movie favorite=\"True\" title=\"Indiana Jones: The raiders of the lost Ark\">\n",
      "                <format multiple=\"No\">DVD</format>\n",
      "                <year>1981</year>\n",
      "                <rating>PG</rating>\n",
      "                <description>\n",
      "                'Archaeologist and adventurer Indiana Jones \n",
      "                is hired by the U.S. government to find the Ark of the \n",
      "                Covenant before the Nazis.'\n",
      "                </description>\n",
      "            </movie>\n",
      "               <movie favorite=\"True\" title=\"THE KARATE KID\">\n",
      "               <format multiple=\"Yes\">DVD,Online</format>\n",
      "               <year>1984</year>\n",
      "               <rating>PG</rating>\n",
      "               <description>None provided.</description>\n",
      "            </movie>\n",
      "            <movie favorite=\"False\" title=\"Back 2 the Future\">\n",
      "               <format multiple=\"No\">Blu-ray</format>\n",
      "               <year>1985</year>\n",
      "               <rating>PG</rating>\n",
      "               <description>Marty McFly</description>\n",
      "            </movie>\n",
      "        </decade>\n",
      "        <decade years=\"1990s\">\n",
      "            <movie favorite=\"False\" title=\"X-Men\">\n",
      "               <format multiple=\"Yes\">dvd, digital</format>\n",
      "               <year>2000</year>\n",
      "               <rating>PG-13</rating>\n",
      "               <description>Two mutants come to a private academy for their kind whose resident superhero team must \n",
      "               oppose a terrorist organization with similar powers.</description>\n",
      "            </movie>\n",
      "            <movie favorite=\"True\" title=\"Batman Returns\">\n",
      "               <format multiple=\"No\">VHS</format>\n",
      "               <year>1992</year>\n",
      "               <rating>PG13</rating>\n",
      "               <description>NA.</description>\n",
      "            </movie>\n",
      "               <movie favorite=\"False\" title=\"Reservoir Dogs\">\n",
      "               <format multiple=\"No\">Online</format>\n",
      "               <year>1992</year>\n",
      "               <rating>R</rating>\n",
      "               <description>WhAtEvER I Want!!!?!</description>\n",
      "            </movie>\n",
      "        </decade>    \n",
      "    <decade years=\"2000s\" /></genre>\n",
      "\n",
      "    \n"
     ]
    }
   ],
   "source": [
    "print(ET.tostring(action, encoding='utf8').decode('utf8'))"
   ]
  },
  {
   "cell_type": "code",
   "execution_count": 84,
   "metadata": {
    "collapsed": false
   },
   "outputs": [
    {
     "name": "stdout",
     "output_type": "stream",
     "text": [
      "<?xml version='1.0' encoding='utf8'?>\n",
      "<genre category=\"Thriller\">\n",
      "        <decade years=\"1970s\">\n",
      "            <movie favorite=\"False\" title=\"ALIEN\">\n",
      "                <format multiple=\"No\">DVD</format>\n",
      "                <year>1979</year>\n",
      "                <rating>R</rating>\n",
      "                <description>\"\"\"\"\"\"\"\"\"</description>\n",
      "            </movie>\n",
      "        </decade>\n",
      "        <decade years=\"1980s\">\n",
      "            <movie favorite=\"True\" title=\"Ferris Bueller's Day Off\">\n",
      "                <format multiple=\"No\">DVD</format>\n",
      "                <year>1986</year>\n",
      "                <rating>PG13</rating>\n",
      "                <description>Funny movie about a funny guy</description>\n",
      "            </movie>\n",
      "            <movie favorite=\"FALSE\" title=\"American Psycho\">\n",
      "                <format multiple=\"No\">blue-ray</format>\n",
      "                <year>2000</year>\n",
      "                <rating>Unrated</rating>\n",
      "                <description>psychopathic Bateman</description>\n",
      "            </movie>\n",
      "        </decade>\n",
      "    <decade years=\"2000s\" /></genre>\n",
      "    \n"
     ]
    }
   ],
   "source": [
    "print(ET.tostring(thriller, encoding='utf8').decode('utf8'))"
   ]
  },
  {
   "cell_type": "markdown",
   "metadata": {},
   "source": [
    "- Use `.append()` to append 'X-Men' movie to the 2000s under action "
   ]
  },
  {
   "cell_type": "code",
   "execution_count": 85,
   "metadata": {
    "collapsed": true
   },
   "outputs": [],
   "source": [
    "xmen = root.find(\"./genre/decade/movie[@title='X-Men']\")\n",
    "dec2000s = root.find(\"./genre[@category='Action']/decade[@years='2000s']\")\n",
    "dec2000s.append(xmen)"
   ]
  },
  {
   "cell_type": "markdown",
   "metadata": {},
   "source": [
    "- Use `.remove()` to remove the same film from 1990s "
   ]
  },
  {
   "cell_type": "code",
   "execution_count": 86,
   "metadata": {
    "collapsed": true
   },
   "outputs": [],
   "source": [
    "dec1990s = root.find(\"./genre[@category='Action']/decade[@years='1990s']\")\n",
    "dec1990s.remove(xmen)"
   ]
  },
  {
   "cell_type": "code",
   "execution_count": 87,
   "metadata": {
    "collapsed": false
   },
   "outputs": [
    {
     "name": "stdout",
     "output_type": "stream",
     "text": [
      "<?xml version='1.0' encoding='utf8'?>\n",
      "<genre category=\"Action\">\n",
      "        <decade years=\"1980s\">\n",
      "            <movie favorite=\"True\" title=\"Indiana Jones: The raiders of the lost Ark\">\n",
      "                <format multiple=\"No\">DVD</format>\n",
      "                <year>1981</year>\n",
      "                <rating>PG</rating>\n",
      "                <description>\n",
      "                'Archaeologist and adventurer Indiana Jones \n",
      "                is hired by the U.S. government to find the Ark of the \n",
      "                Covenant before the Nazis.'\n",
      "                </description>\n",
      "            </movie>\n",
      "               <movie favorite=\"True\" title=\"THE KARATE KID\">\n",
      "               <format multiple=\"Yes\">DVD,Online</format>\n",
      "               <year>1984</year>\n",
      "               <rating>PG</rating>\n",
      "               <description>None provided.</description>\n",
      "            </movie>\n",
      "            <movie favorite=\"False\" title=\"Back 2 the Future\">\n",
      "               <format multiple=\"No\">Blu-ray</format>\n",
      "               <year>1985</year>\n",
      "               <rating>PG</rating>\n",
      "               <description>Marty McFly</description>\n",
      "            </movie>\n",
      "        </decade>\n",
      "        <decade years=\"1990s\">\n",
      "            <movie favorite=\"True\" title=\"Batman Returns\">\n",
      "               <format multiple=\"No\">VHS</format>\n",
      "               <year>1992</year>\n",
      "               <rating>PG13</rating>\n",
      "               <description>NA.</description>\n",
      "            </movie>\n",
      "               <movie favorite=\"False\" title=\"Reservoir Dogs\">\n",
      "               <format multiple=\"No\">Online</format>\n",
      "               <year>1992</year>\n",
      "               <rating>R</rating>\n",
      "               <description>WhAtEvER I Want!!!?!</description>\n",
      "            </movie>\n",
      "        </decade>    \n",
      "    <decade years=\"2000s\"><movie favorite=\"False\" title=\"X-Men\">\n",
      "               <format multiple=\"Yes\">dvd, digital</format>\n",
      "               <year>2000</year>\n",
      "               <rating>PG-13</rating>\n",
      "               <description>Two mutants come to a private academy for their kind whose resident superhero team must \n",
      "               oppose a terrorist organization with similar powers.</description>\n",
      "            </movie>\n",
      "            </decade></genre>\n",
      "\n",
      "    \n"
     ]
    }
   ],
   "source": [
    "print(ET.tostring(action, encoding='utf8').decode('utf8'))"
   ]
  },
  {
   "cell_type": "code",
   "execution_count": 88,
   "metadata": {
    "collapsed": true
   },
   "outputs": [],
   "source": [
    "#repeating the same step for 'American Psycho'\n",
    "american_psycho = root.find(\"./genre/decade/movie[@title='American Psycho']\")\n",
    "dec2000s = root.find(\"./genre[@category='Thriller']/decade[@years='2000s']\")\n",
    "dec2000s.append(american_psycho)"
   ]
  },
  {
   "cell_type": "code",
   "execution_count": 89,
   "metadata": {
    "collapsed": true
   },
   "outputs": [],
   "source": [
    "dec1980s = root.find(\"./genre[@category='Thriller']/decade[@years='1980s']\")"
   ]
  },
  {
   "cell_type": "code",
   "execution_count": 90,
   "metadata": {
    "collapsed": false
   },
   "outputs": [
    {
     "name": "stdout",
     "output_type": "stream",
     "text": [
      "<?xml version='1.0' encoding='utf8'?>\n",
      "<decade years=\"1980s\">\n",
      "            <movie favorite=\"True\" title=\"Ferris Bueller's Day Off\">\n",
      "                <format multiple=\"No\">DVD</format>\n",
      "                <year>1986</year>\n",
      "                <rating>PG13</rating>\n",
      "                <description>Funny movie about a funny guy</description>\n",
      "            </movie>\n",
      "            <movie favorite=\"FALSE\" title=\"American Psycho\">\n",
      "                <format multiple=\"No\">blue-ray</format>\n",
      "                <year>2000</year>\n",
      "                <rating>Unrated</rating>\n",
      "                <description>psychopathic Bateman</description>\n",
      "            </movie>\n",
      "        </decade>\n",
      "    \n"
     ]
    }
   ],
   "source": [
    "print(ET.tostring(dec1980s, encoding='utf8').decode('utf8'))"
   ]
  },
  {
   "cell_type": "code",
   "execution_count": 91,
   "metadata": {
    "collapsed": true
   },
   "outputs": [],
   "source": [
    "dec1980s.remove(american_psycho)"
   ]
  },
  {
   "cell_type": "code",
   "execution_count": 92,
   "metadata": {
    "collapsed": false
   },
   "outputs": [
    {
     "name": "stdout",
     "output_type": "stream",
     "text": [
      "<?xml version='1.0' encoding='utf8'?>\n",
      "<decade years=\"1980s\">\n",
      "            <movie favorite=\"True\" title=\"Ferris Bueller's Day Off\">\n",
      "                <format multiple=\"No\">DVD</format>\n",
      "                <year>1986</year>\n",
      "                <rating>PG13</rating>\n",
      "                <description>Funny movie about a funny guy</description>\n",
      "            </movie>\n",
      "            </decade>\n",
      "    \n"
     ]
    }
   ],
   "source": [
    "print(ET.tostring(dec1980s, encoding='utf8').decode('utf8'))"
   ]
  },
  {
   "cell_type": "code",
   "execution_count": 93,
   "metadata": {
    "collapsed": true
   },
   "outputs": [],
   "source": [
    "#writing back to the xml\n",
    "tree.write(\"movies_correct.xml\")"
   ]
  },
  {
   "cell_type": "markdown",
   "metadata": {},
   "source": [
    "###### Python's API for XML processing no. 2 dom.minidom"
   ]
  },
  {
   "cell_type": "markdown",
   "metadata": {},
   "source": [
    "- Document Object Model (dom) is another api for accessing and processing XML "
   ]
  },
  {
   "cell_type": "code",
   "execution_count": 94,
   "metadata": {
    "collapsed": true
   },
   "outputs": [],
   "source": [
    "from xml.dom import minidom"
   ]
  },
  {
   "cell_type": "code",
   "execution_count": 95,
   "metadata": {
    "collapsed": true
   },
   "outputs": [],
   "source": [
    "dom = minidom.parse(\"movies_correct.xml\")"
   ]
  },
  {
   "cell_type": "code",
   "execution_count": 96,
   "metadata": {
    "collapsed": false
   },
   "outputs": [
    {
     "name": "stdout",
     "output_type": "stream",
     "text": [
      "Print the entire dom contents removing the newline\n",
      "<?xml version=\"1.0\" ?><collection>\t\n",
      "    \t<genre category=\"Action\">\t\t\n",
      "        \t\t<decade years=\"1980s\">\t\t\t\n",
      "            \t\t\t<movie favorite=\"True\" title=\"Indiana Jones: The raiders of the lost Ark\">\t\t\t\t\n",
      "                \t\t\t\t<format multiple=\"No\">DVD</format>\t\t\t\t\n",
      "                \t\t\t\t<year>1981</year>\t\t\t\t\n",
      "                \t\t\t\t<rating>PG</rating>\t\t\t\t\n",
      "                \t\t\t\t<description>\n",
      "                'Archaeologist and adventurer Indiana Jones \n",
      "                is hired by the U.S. government to find the Ark of the \n",
      "                Covenant before the Nazis.'\n",
      "                </description>\t\t\t\t\n",
      "            \t\t\t</movie>\t\t\t\n",
      "               \t\t\t<movie favorite=\"True\" title=\"THE KARATE KID\">\t\t\t\t\n",
      "               \t\t\t\t<format multiple=\"Yes\">DVD,Online</format>\t\t\t\t\n",
      "               \t\t\t\t<year>1984</year>\t\t\t\t\n",
      "               \t\t\t\t<rating>PG</rating>\t\t\t\t\n",
      "               \t\t\t\t<description>None provided.</description>\t\t\t\t\n",
      "            \t\t\t</movie>\t\t\t\n",
      "            \t\t\t<movie favorite=\"False\" title=\"Back 2 the Future\">\t\t\t\t\n",
      "               \t\t\t\t<format multiple=\"No\">Blu-ray</format>\t\t\t\t\n",
      "               \t\t\t\t<year>1985</year>\t\t\t\t\n",
      "               \t\t\t\t<rating>PG</rating>\t\t\t\t\n",
      "               \t\t\t\t<description>Marty McFly</description>\t\t\t\t\n",
      "            \t\t\t</movie>\t\t\t\n",
      "        \t\t</decade>\t\t\n",
      "        \t\t<decade years=\"1990s\">\t\t\t\n",
      "            \t\t\t<movie favorite=\"True\" title=\"Batman Returns\">\t\t\t\t\n",
      "               \t\t\t\t<format multiple=\"No\">VHS</format>\t\t\t\t\n",
      "               \t\t\t\t<year>1992</year>\t\t\t\t\n",
      "               \t\t\t\t<rating>PG13</rating>\t\t\t\t\n",
      "               \t\t\t\t<description>NA.</description>\t\t\t\t\n",
      "            \t\t\t</movie>\t\t\t\n",
      "               \t\t\t<movie favorite=\"False\" title=\"Reservoir Dogs\">\t\t\t\t\n",
      "               \t\t\t\t<format multiple=\"No\">Online</format>\t\t\t\t\n",
      "               \t\t\t\t<year>1992</year>\t\t\t\t\n",
      "               \t\t\t\t<rating>R</rating>\t\t\t\t\n",
      "               \t\t\t\t<description>WhAtEvER I Want!!!?!</description>\t\t\t\t\n",
      "            \t\t\t</movie>\t\t\t\n",
      "        \t\t</decade>\t\t    \n",
      "    \t\t<decade years=\"2000s\">\t\t\t<movie favorite=\"False\" title=\"X-Men\">\t\t\t\t\n",
      "               \t\t\t\t<format multiple=\"Yes\">dvd, digital</format>\t\t\t\t\n",
      "               \t\t\t\t<year>2000</year>\t\t\t\t\n",
      "               \t\t\t\t<rating>PG-13</rating>\t\t\t\t\n",
      "               \t\t\t\t<description>Two mutants come to a private academy for their kind whose resident superhero team must \n",
      "               oppose a terrorist organization with similar powers.</description>\t\t\t\t\n",
      "            \t\t\t</movie>\t\t\t\n",
      "            \t\t</decade>\t</genre>\t\n",
      "\n",
      "    \t<genre category=\"Thriller\">\t\t\n",
      "        \t\t<decade years=\"1970s\">\t\t\t\n",
      "            \t\t\t<movie favorite=\"False\" title=\"ALIEN\">\t\t\t\t\n",
      "                \t\t\t\t<format multiple=\"No\">DVD</format>\t\t\t\t\n",
      "                \t\t\t\t<year>1979</year>\t\t\t\t\n",
      "                \t\t\t\t<rating>R</rating>\t\t\t\t\n",
      "                \t\t\t\t<description>&quot;&quot;&quot;&quot;&quot;&quot;&quot;&quot;&quot;</description>\t\t\t\t\n",
      "            \t\t\t</movie>\t\t\t\n",
      "        \t\t</decade>\t\t\n",
      "        \t\t<decade years=\"1980s\">\t\t\t\n",
      "            \t\t\t<movie favorite=\"True\" title=\"Ferris Bueller's Day Off\">\t\t\t\t\n",
      "                \t\t\t\t<format multiple=\"No\">DVD</format>\t\t\t\t\n",
      "                \t\t\t\t<year>1986</year>\t\t\t\t\n",
      "                \t\t\t\t<rating>PG13</rating>\t\t\t\t\n",
      "                \t\t\t\t<description>Funny movie about a funny guy</description>\t\t\t\t\n",
      "            \t\t\t</movie>\t\t\t\n",
      "            \t\t</decade>\t\t\n",
      "    \t\t<decade years=\"2000s\">\t\t\t<movie favorite=\"FALSE\" title=\"American Psycho\">\t\t\t\t\n",
      "                \t\t\t\t<format multiple=\"No\">blue-ray</format>\t\t\t\t\n",
      "                \t\t\t\t<year>2000</year>\t\t\t\t\n",
      "                \t\t\t\t<rating>Unrated</rating>\t\t\t\t\n",
      "                \t\t\t\t<description>psychopathic Bateman</description>\t\t\t\t\n",
      "            \t\t\t</movie>\t\t\t\n",
      "        \t\t</decade>\t</genre>\t\n",
      "    \t<genre category=\"Comedy\">\t\t\n",
      "        \t\t<decade years=\"1960s\">\t\t\t\n",
      "            \t\t\t<movie favorite=\"False\" title=\"Batman: The Movie\">\t\t\t\t\n",
      "                \t\t\t\t<format multiple=\"Yes\">DVD,VHS</format>\t\t\t\t\n",
      "                \t\t\t\t<year>1966</year>\t\t\t\t\n",
      "                \t\t\t\t<rating>PG</rating>\t\t\t\t\n",
      "                \t\t\t\t<description>What a joke!</description>\t\t\t\t\n",
      "            \t\t\t</movie>\t\t\t\n",
      "        \t\t</decade>\t\t\n",
      "        \t\t<decade years=\"2010s\">\t\t\t\n",
      "            \t\t\t<movie favorite=\"True\" title=\"Easy A\">\t\t\t\t\n",
      "                \t\t\t\t<format multiple=\"No\">DVD</format>\t\t\t\t\n",
      "                \t\t\t\t<year>2010</year>\t\t\t\t\n",
      "                \t\t\t\t<rating>PG--13</rating>\t\t\t\t\n",
      "                \t\t\t\t<description>Emma Stone = Hester Prynne</description>\t\t\t\t\n",
      "            \t\t\t</movie>\t\t\t\n",
      "            \t\t\t<movie favorite=\"True\" title=\"Dinner for SCHMUCKS\">\t\t\t\t\n",
      "                \t\t\t\t<format multiple=\"Yes\">DVD,digital,Netflix</format>\t\t\t\t\n",
      "                \t\t\t\t<year>2011</year>\t\t\t\t\n",
      "                \t\t\t\t<rating>Unrated</rating>\t\t\t\t\n",
      "                \t\t\t\t<description>Tim (Rudd) is a rising executive\n",
      "                 who “succeeds” in finding the perfect guest, \n",
      "                 IRS employee Barry (Carell), for his boss’ monthly event, \n",
      "                 a so-called “dinner for idiots,” which offers certain \n",
      "                 advantages to the exec who shows up with the biggest buffoon.\n",
      "                 </description>\t\t\t\t\n",
      "            \t\t\t</movie>\t\t\t\n",
      "        \t\t</decade>\t\t\n",
      "        \t\t<decade years=\"1980s\">\t\t\t\n",
      "            \t\t\t<movie favorite=\"False\" title=\"Ghostbusters\">\t\t\t\t\n",
      "                \t\t\t\t<format multiple=\"Yes\">Online,VHS</format>\t\t\t\t\n",
      "                \t\t\t\t<year>1984</year>\t\t\t\t\n",
      "                \t\t\t\t<rating>PG</rating>\t\t\t\t\n",
      "                \t\t\t\t<description>Who ya gonna call?</description>\t\t\t\t\n",
      "            \t\t\t</movie>\t\t\t\n",
      "        \t\t</decade>\t\t\n",
      "        \t\t<decade years=\"1990s\">\t\t\t\n",
      "            \t\t\t<movie favorite=\"True\" title=\"Robin Hood: Prince of Thieves\">\t\t\t\t\n",
      "                \t\t\t\t<format multiple=\"No\">Blu_Ray</format>\t\t\t\t\n",
      "                \t\t\t\t<year>1991</year>\t\t\t\t\n",
      "                \t\t\t\t<rating>Unknown</rating>\t\t\t\t\n",
      "                \t\t\t\t<description>Robin Hood slaying</description>\t\t\t\t\n",
      "            \t\t\t</movie>\t\t\t\n",
      "        \t\t</decade>\t\t\n",
      "    \t</genre>\t\n",
      "</collection>\n"
     ]
    }
   ],
   "source": [
    "print(\"Print the entire dom contents removing the newline\")\n",
    "print(dom.toprettyxml(newl='')) #newline is empty"
   ]
  },
  {
   "cell_type": "code",
   "execution_count": 397,
   "metadata": {
    "collapsed": false
   },
   "outputs": [
    {
     "name": "stdout",
     "output_type": "stream",
     "text": [
      "Get the root node using `documentElement`\n",
      "<DOM Element: collection at 0x1c80aff7a60>\n",
      "collection\n"
     ]
    }
   ],
   "source": [
    "print(\"Get the root node using `documentElement`\")\n",
    "print(dom.documentElement)\n",
    "print(dom.documentElement.nodeName)"
   ]
  },
  {
   "cell_type": "code",
   "execution_count": 97,
   "metadata": {
    "collapsed": false
   },
   "outputs": [
    {
     "name": "stdout",
     "output_type": "stream",
     "text": [
      "Getting the child nodes of the root node\n"
     ]
    },
    {
     "data": {
      "text/plain": [
       "[<DOM Text node \"'\\n    '\">,\n",
       " <DOM Element: genre at 0x2b5dcfeacaf8>,\n",
       " <DOM Text node \"'\\n\\n    '\">,\n",
       " <DOM Element: genre at 0x2b5dcfef2048>,\n",
       " <DOM Text node \"'\\n    '\">,\n",
       " <DOM Element: genre at 0x2b5dcfef2b90>,\n",
       " <DOM Text node \"'\\n'\">]"
      ]
     },
     "execution_count": 97,
     "metadata": {},
     "output_type": "execute_result"
    }
   ],
   "source": [
    "print(\"Getting the child nodes of the root node\")\n",
    "dom.documentElement.childNodes"
   ]
  },
  {
   "cell_type": "code",
   "execution_count": 103,
   "metadata": {
    "collapsed": false
   },
   "outputs": [],
   "source": [
    "# one crude way to remove those 'Text node' ; cropping up only in minidom module\n",
    "dom.documentElement.childNodes = dom.documentElement.childNodes[1:6:2]"
   ]
  },
  {
   "cell_type": "code",
   "execution_count": 104,
   "metadata": {
    "collapsed": false
   },
   "outputs": [
    {
     "data": {
      "text/plain": [
       "[<DOM Element: genre at 0x2b5dcfeacaf8>,\n",
       " <DOM Element: genre at 0x2b5dcfef2048>,\n",
       " <DOM Element: genre at 0x2b5dcfef2b90>]"
      ]
     },
     "execution_count": 104,
     "metadata": {},
     "output_type": "execute_result"
    }
   ],
   "source": [
    "dom.documentElement.childNodes"
   ]
  },
  {
   "cell_type": "code",
   "execution_count": 110,
   "metadata": {
    "collapsed": false
   },
   "outputs": [
    {
     "name": "stdout",
     "output_type": "stream",
     "text": [
      "[<DOM Element: collection at 0x2b5dcfef7e88>]\n"
     ]
    }
   ],
   "source": [
    "# better way to remove those 'Text nodes' \n",
    "dom = minidom.parse(\"movies_correct.xml\") # re-initializing dom variable\n",
    "print(dom.documentElement.childNodes)\n",
    "corrected_root_childnodes = [child_node for child_node in ]"
   ]
  },
  {
   "cell_type": "code",
   "execution_count": 111,
   "metadata": {
    "collapsed": false
   },
   "outputs": [
    {
     "name": "stdout",
     "output_type": "stream",
     "text": [
      "[<DOM Element: genre at 0x2b5dcfef7df0>, <DOM Element: genre at 0x2b5de449ddf0>, <DOM Element: genre at 0x2b5de44a09c8>]\n",
      "\n",
      "3\n",
      "\n",
      "['Action', 'Thriller', 'Comedy']\n",
      "\n",
      "[('Action', 'decade', '1980s'), ('Action', 'decade', '1990s'), ('Action', 'decade', '2000s'), ('Thriller', 'decade', '1970s'), ('Thriller', 'decade', '1980s'), ('Thriller', 'decade', '2000s'), ('Comedy', 'decade', '1960s'), ('Comedy', 'decade', '2010s'), ('Comedy', 'decade', '1980s'), ('Comedy', 'decade', '1990s')]\n"
     ]
    }
   ],
   "source": [
    "#genre elements\n",
    "print(dom.getElementsByTagName('genre'))\n",
    "print()\n",
    "print(dom.getElementsByTagName('genre').length)\n",
    "print()\n",
    "print([each_node.getAttribute(\"category\") for each_node in dom.getElementsByTagName('genre')])\n",
    "print()\n",
    "print([(each_node.getAttribute('category'),child_node.nodeName,child_node.getAttribute('years')) for each_node in dom.getElementsByTagName('genre') for child_node in each_node.childNodes if child_node.nodeName!='#text'])"
   ]
  },
  {
   "cell_type": "code",
   "execution_count": 118,
   "metadata": {
    "collapsed": false
   },
   "outputs": [
    {
     "name": "stdout",
     "output_type": "stream",
     "text": [
      "movie : Indiana Jones: The raiders of the lost Ark\n",
      "genre : Action\n",
      "decade : 1980s\n",
      "movie : THE KARATE KID\n",
      "genre : Action\n",
      "decade : 1980s\n",
      "movie : Back 2 the Future\n",
      "genre : Action\n",
      "decade : 1980s\n",
      "movie : Batman Returns\n",
      "genre : Action\n",
      "decade : 1990s\n",
      "movie : Reservoir Dogs\n",
      "genre : Action\n",
      "decade : 1990s\n",
      "movie : X-Men\n",
      "genre : Action\n",
      "decade : 2000s\n",
      "movie : ALIEN\n",
      "genre : Thriller\n",
      "decade : 1970s\n",
      "movie : Ferris Bueller's Day Off\n",
      "genre : Thriller\n",
      "decade : 1980s\n",
      "movie : American Psycho\n",
      "genre : Thriller\n",
      "decade : 2000s\n",
      "movie : Batman: The Movie\n",
      "genre : Comedy\n",
      "decade : 1960s\n",
      "movie : Easy A\n",
      "genre : Comedy\n",
      "decade : 2010s\n",
      "movie : Dinner for SCHMUCKS\n",
      "genre : Comedy\n",
      "decade : 2010s\n",
      "movie : Ghostbusters\n",
      "genre : Comedy\n",
      "decade : 1980s\n",
      "movie : Robin Hood: Prince of Thieves\n",
      "genre : Comedy\n",
      "decade : 1990s\n"
     ]
    }
   ],
   "source": [
    "# printing all values of 'genre' element\n",
    "genre_element = dom.getElementsByTagName('genre')\n",
    "genre_length = dom.getElementsByTagName('genre').length\n",
    "for genre in genre_element:\n",
    "    for decade in genre.childNodes:\n",
    "        if decade.nodeName!='#text':\n",
    "            for movie in decade.childNodes:\n",
    "                if movie.nodeName!='#text':\n",
    "                    print(movie.tagName,\":\",movie.getAttribute('title'))\n",
    "                    print(genre.tagName,\":\",genre.getAttribute('category'))\n",
    "                    print(decade.tagName,\":\",decade.getAttribute('years'))"
   ]
  },
  {
   "cell_type": "markdown",
   "metadata": {},
   "source": [
    "###### Summary: commands learnt"
   ]
  },
  {
   "cell_type": "markdown",
   "metadata": {},
   "source": [
    "`ET.parse`\n",
    "`tree.getroot()` to get to the root node <br>\n",
    "`root.iter()` -- the generator that can be iterated in a list to fetch all elements in it <br>\n",
    "`root.iter('sub_element')` -- this generator can be used to fetch all 'sub_element' or 'child nodes' present in any lower level hierarchy from the root <br>\n",
    "`root.findall(xpath)` -- alternate way to get elements using xpath <br>\n",
    "`element.attrib` and `element.text` methods <br>\n",
    "`root.find(xpath)` -- to go to the xpath location <br>\n",
    "`ET.SubElement(root.find(xpath),subelement_name)` -- to add a new subelement/node at the end of `root.find(xpath)` that was not previously there <br>\n",
    "`.append()` and `.remove()` -- used to move elements or individually to append or remove an element"
   ]
  }
 ],
 "metadata": {
  "kernelspec": {
   "display_name": "Python [conda env:cxenv]",
   "language": "python",
   "name": "conda-env-cxenv-py"
  },
  "language_info": {
   "codemirror_mode": {
    "name": "ipython",
    "version": 3
   },
   "file_extension": ".py",
   "mimetype": "text/x-python",
   "name": "python",
   "nbconvert_exporter": "python",
   "pygments_lexer": "ipython3",
   "version": "3.6.7"
  }
 },
 "nbformat": 4,
 "nbformat_minor": 2
}
