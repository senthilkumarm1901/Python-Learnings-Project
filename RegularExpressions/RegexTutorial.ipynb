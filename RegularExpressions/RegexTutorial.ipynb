{
 "cells": [
  {
   "cell_type": "markdown",
   "metadata": {},
   "source": [
    "Source: \n",
    "    - https://github.com/ziishaned/learn-regex (Main source)\n",
    "    - https://docs.python.org/3/library/re.html"
   ]
  },
  {
   "cell_type": "markdown",
   "metadata": {},
   "source": [
    "## Basics of Regular Expressions\n",
    "- What is RegEx? -- Highly useful in Text Data Processing\n",
    "- An expression containing 'meta' characters and literals to identify and/or replace a pattern matching that expression\n",
    "   - **Meta Characters**: these characters have a special meaning\n",
    "   - **Literals**: these characters are the actual characters that are to be matched\n",
    "- Use Cases\n",
    "    - To **search** a string pattern\n",
    "    - To **split** a string based on a pattern\n",
    "    - To **replace** a part of the string"
   ]
  },
  {
   "cell_type": "markdown",
   "metadata": {},
   "source": [
    "<img src=\"./img/regexp-en.png\" alt=\"Regular expression\">"
   ]
  },
  {
   "cell_type": "code",
   "execution_count": 1,
   "metadata": {},
   "outputs": [],
   "source": [
    "import re"
   ]
  },
  {
   "cell_type": "markdown",
   "metadata": {},
   "source": [
    "## 1. Literals"
   ]
  },
  {
   "cell_type": "code",
   "execution_count": 98,
   "metadata": {},
   "outputs": [
    {
     "name": "stdout",
     "output_type": "stream",
     "text": [
      "<_sre.SRE_Match object; span=(0, 5), match='Start'>\n",
      "(0, 5)\n",
      "Start\n"
     ]
    }
   ],
   "source": [
    "# re.search\n",
    "sentence = \"\"\"Start a sentence and then bring it to an end\n",
    "Start of the second sentence and bring it to an end\"\"\"\n",
    "\n",
    "pattern = re.compile(r'start', re.IGNORECASE)\n",
    "\n",
    "matches = pattern.search(sentence)\n",
    "\n",
    "print(pattern.search(sentence))\n",
    "print(pattern.search(sentence).span())\n",
    "print(matches.group())"
   ]
  },
  {
   "cell_type": "code",
   "execution_count": 85,
   "metadata": {},
   "outputs": [
    {
     "name": "stdout",
     "output_type": "stream",
     "text": [
      "['Start', 'Start']\n"
     ]
    }
   ],
   "source": [
    "# re.search\n",
    "sentence = \"\"\"Start a sentence and then bring it to an end\n",
    "Start of the second sentence and bring it to an end\"\"\"\n",
    "\n",
    "pattern = re.compile(r'start', re.IGNORECASE)\n",
    "\n",
    "matches = pattern.findall(sentence)\n",
    "\n",
    "print(matches)"
   ]
  },
  {
   "cell_type": "code",
   "execution_count": 86,
   "metadata": {},
   "outputs": [
    {
     "name": "stdout",
     "output_type": "stream",
     "text": [
      "['Start']\n"
     ]
    }
   ],
   "source": [
    "# re.findall\n",
    "sentence = \"\"\"Start a sentence and then bring it to an end\n",
    "Start of the second sentence and bring it to an end\"\"\"\n",
    "\n",
    "pattern = re.compile(r'^start', re.I)\n",
    "\n",
    "matches = pattern.findall(sentence)\n",
    "\n",
    "print(matches)"
   ]
  },
  {
   "cell_type": "code",
   "execution_count": 87,
   "metadata": {},
   "outputs": [
    {
     "name": "stdout",
     "output_type": "stream",
     "text": [
      "['Start', 'Start']\n"
     ]
    }
   ],
   "source": [
    "# re.findall\n",
    "sentence = \"\"\"Start a sentence and then bring it to an end\n",
    "Start of the second sentence and bring it to an end\"\"\"\n",
    "\n",
    "pattern = re.compile(r'^start', re.I|re.M)\n",
    "\n",
    "matches = pattern.findall(sentence)\n",
    "\n",
    "print(matches)"
   ]
  },
  {
   "cell_type": "code",
   "execution_count": 88,
   "metadata": {},
   "outputs": [
    {
     "name": "stdout",
     "output_type": "stream",
     "text": [
      "['end']\n"
     ]
    }
   ],
   "source": [
    "sentence = \"\"\"Start a sentence and then bring it to an end\n",
    "Start of the second sentence and bring it to an end\"\"\"\n",
    "\n",
    "pattern = re.compile('end$', re.I)\n",
    "\n",
    "matches = pattern.findall(sentence)\n",
    "\n",
    "print(matches)"
   ]
  },
  {
   "cell_type": "code",
   "execution_count": 93,
   "metadata": {},
   "outputs": [
    {
     "name": "stdout",
     "output_type": "stream",
     "text": [
      "['end']\n"
     ]
    }
   ],
   "source": [
    "sentence = \"\"\"Start a sentence and then bring it to an end\n",
    "Start of the second sentence and bring it to an end here\"\"\"\n",
    "\n",
    "pattern = re.compile(r'end$', re.I | re.M)\n",
    "\n",
    "matches = pattern.findall(sentence)\n",
    "\n",
    "print(matches)"
   ]
  },
  {
   "cell_type": "code",
   "execution_count": 100,
   "metadata": {},
   "outputs": [
    {
     "name": "stdout",
     "output_type": "stream",
     "text": [
      "['Start a sentence and then bring it to an end', 'Start of the second sentence and bring it to an end']\n"
     ]
    }
   ],
   "source": [
    "sentence = \"\"\"Start a sentence and then bring it to an end\n",
    "Start of the second sentence and bring it to an end here\"\"\"\n",
    "\n",
    "pattern = re.compile(r'.+nd', re.I)\n",
    "\n",
    "matches = pattern.findall(sentence)\n",
    "\n",
    "print(matches)"
   ]
  },
  {
   "cell_type": "code",
   "execution_count": 101,
   "metadata": {},
   "outputs": [
    {
     "name": "stdout",
     "output_type": "stream",
     "text": [
      "['Start a sentence and then bring it to an end', 'Start of the second sentence and bring it to an end']\n"
     ]
    }
   ],
   "source": [
    "sentence = \"\"\"Start a sentence and then bring it to an end\n",
    "Start of the second sentence and bring it to an end here\"\"\"\n",
    "\n",
    "pattern = re.compile(r'.+nd', re.I|re.M)\n",
    "\n",
    "matches = pattern.findall(sentence)\n",
    "\n",
    "print(matches)"
   ]
  },
  {
   "cell_type": "code",
   "execution_count": 102,
   "metadata": {},
   "outputs": [
    {
     "name": "stdout",
     "output_type": "stream",
     "text": [
      "['Start a sentence and then bring it to an end and there is a second end']\n"
     ]
    }
   ],
   "source": [
    "sentence = \"\"\"Start a sentence and then bring it to an end and there is a second end\"\"\"\n",
    "\n",
    "pattern = re.compile(r'.+nd', re.I|re.M)\n",
    "\n",
    "matches = pattern.findall(sentence)\n",
    "\n",
    "print(matches)"
   ]
  },
  {
   "cell_type": "code",
   "execution_count": 104,
   "metadata": {},
   "outputs": [
    {
     "name": "stdout",
     "output_type": "stream",
     "text": [
      "['and', 'end', 'and', 'second', 'end']\n"
     ]
    }
   ],
   "source": [
    "sentence = \"\"\"Start a sentence and then bring it to an end and there is a second end\"\"\"\n",
    "\n",
    "pattern = re.compile(r'[a-z]+?nd', re.I|re.M)\n",
    "\n",
    "matches = pattern.findall(sentence)\n",
    "\n",
    "print(matches)"
   ]
  },
  {
   "cell_type": "code",
   "execution_count": 111,
   "metadata": {},
   "outputs": [
    {
     "name": "stdout",
     "output_type": "stream",
     "text": [
      "['an end', 'second end']\n"
     ]
    }
   ],
   "source": [
    "sentence = \"\"\"Start a sentence and then bring it to an end and there is a second end\"\"\"\n",
    "\n",
    "pattern = re.compile(r'([a-z]+ end)', re.I|re.M)\n",
    "\n",
    "matches = pattern.findall(sentence)\n",
    "\n",
    "print(matches)"
   ]
  },
  {
   "cell_type": "code",
   "execution_count": 94,
   "metadata": {},
   "outputs": [
    {
     "data": {
      "text/plain": [
       "'Start a sentence and then bring it to an end\\nStart of the second sentence and bring it to an end here'"
      ]
     },
     "execution_count": 94,
     "metadata": {},
     "output_type": "execute_result"
    }
   ],
   "source": [
    "\"\"\"Start a sentence and then bring it to an end\n",
    "Start of the second sentence and bring it to an end here\"\"\""
   ]
  },
  {
   "cell_type": "markdown",
   "metadata": {},
   "source": [
    "re.search vs re.match\n",
    "- https://stackoverflow.com/questions/180986/what-is-the-difference-between-re-search-and-re-match"
   ]
  },
  {
   "cell_type": "markdown",
   "metadata": {},
   "source": [
    "re.search vs re.findall\n",
    "- `re.search` method stops after the first match, so this is best suited for testing a regular expression more than extracting data.\n",
    "- `re.findall` returns all non-overlapping matches of pattern in string, as a list of strings. The string is scanned left-to-right, and matches are returned in the order found.\n",
    "- https://www.geeksforgeeks.org/python-regex-re-search-vs-re-findall/"
   ]
  },
  {
   "cell_type": "markdown",
   "metadata": {},
   "source": [
    "## 2. Meta Characters"
   ]
  },
  {
   "cell_type": "markdown",
   "metadata": {},
   "source": [
    "Meta characters are the building blocks of regular expressions.  Meta\n",
    "characters do not stand for themselves but instead are interpreted in some\n",
    "special way. Some meta characters have a special meaning and are written inside\n",
    "square brackets. The meta characters are as follows:\n",
    "\n",
    "|Meta character|Description|\n",
    "|:----:|----|\n",
    "|.|Period matches any single character except a line break.|\n",
    "|[ ]|Character class. Matches any character contained between the square brackets.|\n",
    "|[^ ]|Negated character class. Matches any character that is not contained between the square brackets|\n",
    "|*|Matches 0 or more repetitions of the preceding symbol.|\n",
    "|+|Matches 1 or more repetitions of the preceding symbol.|\n",
    "|?|Makes the preceding symbol optional.|\n",
    "|{n,m}|Braces. Matches at least \"n\" but not more than \"m\" repetitions of the preceding symbol.|\n",
    "|(xyz)|Character group. Matches the characters xyz in that exact order.|\n",
    "|&#124;|Alternation. Matches either the characters before or the characters after the symbol.|\n",
    "|\\\\|Escapes the next character. This allows you to match reserved characters [ ] ( ) { } . * + ? ^ \\$ \\\\ |\n",
    "|^|Matches the beginning of the input.|\n",
    "|$|Matches the end of the input.|"
   ]
  },
  {
   "cell_type": "markdown",
   "metadata": {},
   "source": [
    "## 2.1 The Full Stop\n",
    "\n",
    "The full stop `.` is the simplest example of a meta character. The meta character `.`\n",
    "matches any single character. It will not match return or newline characters.\n",
    "For example, the regular expression `.ar` means: any character, followed by the\n",
    "letter `a`, followed by the letter `r`.\n",
    "\n",
    "<pre>\n",
    "\".ar\" => The <a href=\"#learn-regex\"><strong>car</strong></a> <a href=\"#learn-regex\"><strong>par</strong></a>ked in the <a href=\"#learn-regex\"><strong>gar</strong></a>age.\n",
    "</pre>"
   ]
  },
  {
   "cell_type": "markdown",
   "metadata": {},
   "source": [
    "## 2.2 Character Sets\n",
    "\n",
    "Character sets are also called character classes. Square brackets are used to\n",
    "specify character sets. Use a hyphen inside a character set to specify the\n",
    "characters' range. The order of the character range inside the square brackets\n",
    "doesn't matter. For example, the regular expression `[Tt]he` means: an uppercase\n",
    "`T` or lowercase `t`, followed by the letter `h`, followed by the letter `e`.\n",
    "\n",
    "<pre>\n",
    "\"[Tt]he\" => <a href=\"#learn-regex\"><strong>The</strong></a> car parked in <a href=\"#learn-regex\"><strong>the</strong></a> garage.\n",
    "</pre>\n",
    "\n",
    "\n",
    "A period inside a character set, however, means a literal period. The regular\n",
    "expression `ar[.]` means: a lowercase character `a`, followed by the letter `r`,\n",
    "followed by a period `.` character.\n",
    "\n",
    "<pre>\n",
    "\"ar[.]\" => A garage is a good place to park a c<a href=\"#learn-regex\"><strong>ar.</strong></a>\n",
    "</pre>\n",
    "\n",
    "\n",
    "\n",
    "### 2.2.1 Negated Character Sets\n",
    "\n",
    "In general, the caret symbol represents the start of the string, but when it is\n",
    "typed after the opening square bracket it negates the character set. For\n",
    "example, the regular expression `[^c]ar` means: any character except `c`,\n",
    "followed by the character `a`, followed by the letter `r`.\n",
    "\n",
    "<pre>\n",
    "\"[^c]ar\" => The car <a href=\"#learn-regex\"><strong>par</strong></a>ked in the <a href=\"#learn-regex\"><strong>gar</strong></a>age.\n",
    "</pre>\n",
    "\n",
    "\n",
    "\n",
    "## 2.3 Repetitions\n",
    "\n",
    "The meta characters `+`, `*` or `?` are used to specify how many times a\n",
    "subpattern can occur. These meta characters act differently in different\n",
    "situations.\n",
    "\n",
    "### 2.3.1 The Star\n",
    "\n",
    "The `*` symbol matches zero or more repetitions of the preceding matcher. The\n",
    "regular expression `a*` means: zero or more repetitions of the preceding lowercase\n",
    "character `a`. But if it appears after a character set or class then it finds\n",
    "the repetitions of the whole character set. For example, the regular expression\n",
    "`[a-z]*` means: any number of lowercase letters in a row.\n",
    "\n",
    "<pre>\n",
    "\"[a-z]*\" => <a href=\"#learn-regex\"><strong>The</strong></a> <a href=\"#learn-regex\"><strong>car</strong></a> <a href=\"#learn-regex\"><strong>parked</strong></a> <a href=\"#learn-regex\"><strong>in</strong></a> <a href=\"#learn-regex\"><strong>the</strong></a> <a href=\"#learn-regex\"><strong>garage</strong></a> #21.\n",
    "</pre>\n",
    "\n",
    "\n",
    "\n",
    "The `*` symbol can be used with the meta character `.` to match any string of\n",
    "characters `.*`. The `*` symbol can be used with the whitespace character `\\s`\n",
    "to match a string of whitespace characters. For example, the expression\n",
    "`\\s*cat\\s*` means: zero or more spaces, followed by a lowercase `c`,\n",
    "followed by a lowercase `a`, followed by a lowercase `t`,\n",
    "followed by zero or more spaces.\n",
    "\n",
    "<pre>\n",
    "\"\\s*cat\\s*\" => The fat<a href=\"#learn-regex\"><strong> cat </strong></a>sat on the con<a href=\"#learn-regex\"><strong>cat</strong></a>enation.\n",
    "</pre>\n",
    "\n",
    "\n",
    "\n",
    "### 2.3.2 The Plus\n",
    "\n",
    "The `+` symbol matches one or more repetitions of the preceding character. For\n",
    "example, the regular expression `c.+t` means: a lowercase `c`, followed by\n",
    "at least one character, followed by a lowercase `t`. It needs to be\n",
    "clarified that`t` is the last `t` in the sentence.\n",
    "\n",
    "<pre>\n",
    "\"c.+t\" => The fat <a href=\"#learn-regex\"><strong>cat sat on the mat</strong></a>.\n",
    "</pre>\n",
    "\n",
    "\n",
    "\n",
    "### 2.3.3 The Question Mark\n",
    "\n",
    "In regular expressions, the meta character `?` makes the preceding character\n",
    "optional. This symbol matches zero or one instance of the preceding character.\n",
    "For example, the regular expression `[T]?he` means: Optional uppercase\n",
    "`T`, followed by a lowercase `h`, followed bya lowercase `e`.\n",
    "\n",
    "<pre>\n",
    "\"[T]he\" => <a href=\"#learn-regex\"><strong>The</strong></a> car is parked in the garage.\n",
    "</pre>\n",
    "\n",
    "\n",
    "\n",
    "<pre>\n",
    "\"[T]?he\" => <a href=\"#learn-regex\"><strong>The</strong></a> car is parked in t<a href=\"#learn-regex\"><strong>he</strong></a> garage.\n",
    "</pre>\n",
    "\n",
    "\n",
    "\n",
    "## 2.4 Braces\n",
    "\n",
    "In regular expressions, braces (also called quantifiers) are used to\n",
    "specify the number of times that a character or a group of characters can be\n",
    "repeated. For example, the regular expression `[0-9]{2,3}` means: Match at least\n",
    "2 digits, but not more than 3, ranging from 0 to 9.\n",
    "\n",
    "<pre>\n",
    "\"[0-9]{2,3}\" => The number was 9.<a href=\"#learn-regex\"><strong>999</strong></a>7 but we rounded it off to <a href=\"#learn-regex\"><strong>10</strong></a>.0.\n",
    "</pre>\n",
    "\n",
    "\n",
    "\n",
    "We can leave out the second number. For example, the regular expression\n",
    "`[0-9]{2,}` means: Match 2 or more digits. If we also remove the comma, the\n",
    "regular expression `[0-9]{3}` means: Match exactly 3 digits.\n",
    "\n",
    "<pre>\n",
    "\"[0-9]{2,}\" => The number was 9.<a href=\"#learn-regex\"><strong>9997</strong></a> but we rounded it off to <a href=\"#learn-regex\"><strong>10</strong></a>.0.\n",
    "</pre>\n",
    "\n",
    "\n",
    "\n",
    "<pre>\n",
    "\"[0-9]{3}\" => The number was 9.<a href=\"#learn-regex\"><strong>999</strong></a>7 but we rounded it off to 10.0.\n",
    "</pre>\n"
   ]
  },
  {
   "cell_type": "markdown",
   "metadata": {},
   "source": [
    "## 2.5 Capturing Groups\n",
    "\n",
    "A capturing group is a group of sub-patterns that is written inside parentheses \n",
    "`(...)`. As discussed before, in regular expressions, if we put a quantifier \n",
    "after a character then it will repeat the preceding character. But if we put a quantifier\n",
    "after a capturing group then it repeats the whole capturing group. For example,\n",
    "the regular expression `(ab)*` matches zero or more repetitions of the character\n",
    "\"ab\". We can also use the alternation `|` meta character inside a capturing group.\n",
    "For example, the regular expression `(c|g|p)ar` means: a lowercase `c`,\n",
    "`g` or `p`, followed by `a`, followed by `r`.\n",
    "\n",
    "<pre>\n",
    "\"(c|g|p)ar\" => The <a href=\"#learn-regex\"><strong>car</strong></a> is <a href=\"#learn-regex\"><strong>par</strong></a>ked in the <a href=\"#learn-regex\"><strong>gar</strong></a>age.\n",
    "</pre>\n",
    "\n",
    "\n",
    "\n",
    "Note that capturing groups do not only match, but also capture, the characters for use in \n",
    "the parent language. The parent language could be Python or JavaScript or virtually any\n",
    "language that implements regular expressions in a function definition.\n",
    "\n",
    "### 2.5.1 Non-Capturing Groups\n",
    "\n",
    "A non-capturing group is a capturing group that matches the characters but \n",
    "does not capture the group. A non-capturing group is denoted by a `?` followed by a `:` \n",
    "within parentheses `(...)`. For example, the regular expression `(?:c|g|p)ar` is similar to \n",
    "`(c|g|p)ar` in that it matches the same characters but will not create a capture group.\n",
    "\n",
    "<pre>\n",
    "\"(?:c|g|p)ar\" => The <a href=\"#learn-regex\"><strong>car</strong></a> is <a href=\"#learn-regex\"><strong>par</strong></a>ked in the <a href=\"#learn-regex\"><strong>gar</strong></a>age.\n",
    "</pre>\n",
    "\n",
    "\n",
    "\n",
    "Non-capturing groups can come in handy when used in find-and-replace functionality or \n",
    "when mixed with capturing groups to keep the overview when producing any other kind of output. \n",
    "See also [4. Lookaround](#4-lookaround).\n"
   ]
  },
  {
   "cell_type": "code",
   "execution_count": 116,
   "metadata": {},
   "outputs": [
    {
     "name": "stdout",
     "output_type": "stream",
     "text": [
      "('graph.pbtxt',)\n",
      "input file graph.pbtxt\n",
      "input file graph.pbtxt\n",
      "graph.pbtxt\n"
     ]
    }
   ],
   "source": [
    "# use of non-capturing group '?:'\n",
    "\n",
    "pattern = re.compile('(?:input file )([a-z.]+)',re.I)\n",
    "\n",
    "matches1 = pattern.search('input file graph.pbtxt').groups()\n",
    "matches2 = pattern.search('input file graph.pbtxt').group()\n",
    "print(matches1)\n",
    "print(matches2)\n",
    "print(pattern.search('input file graph.pbtxt').group(0))\n",
    "print(pattern.search('input file graph.pbtxt').group(1))"
   ]
  },
  {
   "cell_type": "code",
   "execution_count": 118,
   "metadata": {},
   "outputs": [
    {
     "name": "stdout",
     "output_type": "stream",
     "text": [
      "('input file ', 'graph.pbtxt')\n",
      "input file graph.pbtxt\n",
      "input file graph.pbtxt\n",
      "input file \n",
      "graph.pbtxt\n"
     ]
    }
   ],
   "source": [
    "# use of capturing group\n",
    "\n",
    "pattern = re.compile('(input file )([a-z.]+)',re.I)\n",
    "\n",
    "matches1 = pattern.search('input file graph.pbtxt').groups() # lists a tuple of outputs\n",
    "matches2 = pattern.search('input file graph.pbtxt').group() \n",
    "print(matches1)\n",
    "print(matches2)\n",
    "print(pattern.search('input file graph.pbtxt').group(0))\n",
    "print(pattern.search('input file graph.pbtxt').group(1))\n",
    "print(pattern.search('input file graph.pbtxt').group(2))"
   ]
  },
  {
   "cell_type": "markdown",
   "metadata": {},
   "source": [
    "## 2.6 Alternation\n",
    "\n",
    "In a regular expression, the vertical bar `|` is used to define alternation.\n",
    "Alternation is like an OR statement between multiple expressions. Now, you may be\n",
    "thinking that character sets and alternation work the same way. But the big\n",
    "difference between character sets and alternation is that character sets work at the\n",
    "character level but alternation works at the expression level. For example, the\n",
    "regular expression `(T|t)he|car` means: either (an uppercase `T` or a lowercase\n",
    "`t`, followed by a lowercase `h`, followed by a lowercase `e`) OR\n",
    "(a lowercase `c`, followed by a lowercase `a`, followed by\n",
    "a lowercase `r`). Note that I included the parentheses for clarity, to show that either expression\n",
    "in parentheses can be met and it will match.\n",
    "\n",
    "<pre>\n",
    "\"(T|t)he|car\" => <a href=\"#learn-regex\"><strong>The</strong></a> <a href=\"#learn-regex\"><strong>car</strong></a> is parked in <a href=\"#learn-regex\"><strong>the</strong></a> garage.\n",
    "</pre>\n",
    "\n",
    "\n",
    "\n",
    "## 2.7 Escaping Special Characters\n",
    "\n",
    "A backslash `\\` is used in regular expressions to escape the next character. This\n",
    "allows us to include reserved characters such as `{ } [ ] / \\ + * . $ ^ | ?` as matching characters. To use one of these special character as a matching character, prepend it with `\\`.\n",
    "\n",
    "For example, the regular expression `.` is used to match any character except a\n",
    "newline. Now, to match `.` in an input string, the regular expression\n",
    "`(f|c|m)at\\.?` means: a lowercase `f`, `c` or `m`, followed by a lowercase\n",
    "`a`, followed by a lowercase `t`, followed by an optional `.`\n",
    "character.\n",
    "\n",
    "<pre>\n",
    "\"(f|c|m)at\\.?\" => The <a href=\"#learn-regex\"><strong>fat</strong></a> <a href=\"#learn-regex\"><strong>cat</strong></a> sat on the <a href=\"#learn-regex\"><strong>mat.</strong></a>\n",
    "</pre>\n",
    "\n",
    "\n",
    "\n",
    "## 2.8 Anchors\n",
    "\n",
    "In regular expressions, we use anchors to check if the matching symbol is the\n",
    "starting symbol or ending symbol of the input string. Anchors are of two types:\n",
    "The first type is the caret `^` that check if the matching character is the first\n",
    "character of the input and the second type is the dollar sign `$` which checks if a matching\n",
    "character is the last character of the input string.\n",
    "\n",
    "### 2.8.1 The Caret\n",
    "\n",
    "The caret symbol `^` is used to check if a matching character is the first character\n",
    "of the input string. If we apply the following regular expression `^a` (meaning 'a' must be\n",
    "the starting character) to the string `abc`, it will match `a`. But if we apply\n",
    "the regular expression `^b` to the above string, it will not match anything.\n",
    "Because in the string `abc`, the \"b\" is not the starting character. Let's take a look\n",
    "at another regular expression `^(T|t)he` which means: an uppercase `T` or\n",
    "a lowercase `t` must be the first character in the string, followed by a\n",
    "lowercase `h`, followed by a lowercase `e`.\n",
    "\n",
    "<pre>\n",
    "\"(T|t)he\" => <a href=\"#learn-regex\"><strong>The</strong></a> car is parked in <a href=\"#learn-regex\"><strong>the</strong></a> garage.\n",
    "</pre>\n",
    "\n",
    "\n",
    "\n",
    "<pre>\n",
    "\"^(T|t)he\" => <a href=\"#learn-regex\"><strong>The</strong></a> car is parked in the garage.\n",
    "</pre>\n",
    "\n",
    "\n",
    "\n",
    "### 2.8.2 The Dollar Sign\n",
    "\n",
    "The dollar sign `$` is used to check if a matching character is the last character\n",
    "in the string. For example, the regular expression `(at\\.)$` means: a\n",
    "lowercase `a`, followed by a lowercase `t`, followed by a `.`\n",
    "character and the matcher must be at the end of the string.\n",
    "\n",
    "<pre>\n",
    "\"(at\\.)\" => The fat c<a href=\"#learn-regex\"><strong>at.</strong></a> s<a href=\"#learn-regex\"><strong>at.</strong></a> on the m<a href=\"#learn-regex\"><strong>at.</strong></a>\n",
    "</pre>\n",
    "\n",
    "''\n",
    "\n",
    "<pre>\n",
    "\"(at\\.)$\" => The fat cat. sat. on the m<a href=\"#learn-regex\"><strong>at.</strong></a>\n",
    "</pre>\n"
   ]
  },
  {
   "cell_type": "markdown",
   "metadata": {},
   "source": [
    "##  3. Shorthand Character Sets\n",
    "\n",
    "There are a number of convenient shorthands for commonly used character sets/\n",
    "regular expressions:\n",
    "\n",
    "|Shorthand|Description|\n",
    "|:----:|----|\n",
    "|.|Any character except new line|\n",
    "|\\w|Matches alphanumeric characters: `[a-zA-Z0-9_]`|\n",
    "|\\W|Matches non-alphanumeric characters: `[^\\w]`|\n",
    "|\\d|Matches digits: `[0-9]`|\n",
    "|\\D|Matches non-digits: `[^\\d]`|\n",
    "|\\s|Matches whitespace characters: `[\\t\\n\\f\\r\\p{Z}]`|\n",
    "|\\S|Matches non-whitespace characters: `[^\\s]`|"
   ]
  },
  {
   "cell_type": "markdown",
   "metadata": {},
   "source": [
    "## 4. Lookarounds\n",
    "\n",
    "Lookbehinds and lookaheads (also called lookarounds) are specific types of\n",
    "***non-capturing groups*** (used to match a pattern but without including it in the matching\n",
    "list). Lookarounds are used when we a pattern must be\n",
    "preceded or followed by another pattern. For example, imagine we want to get all\n",
    "numbers that are preceded by the `$` character from the string\n",
    "`$4.44 and $10.88`. We will use the following regular expression `(?<=\\$)[0-9\\.]*`\n",
    "which means: get all the numbers which contain the `.` character and are preceded\n",
    "by the `$` character. These are the lookarounds that are used in regular\n",
    "expressions:\n",
    "\n",
    "|Symbol|Description|\n",
    "|:----:|----|\n",
    "|?=|Positive Lookahead|\n",
    "|?!|Negative Lookahead|\n",
    "|?<=|Positive Lookbehind|\n",
    "|?<!|Negative Lookbehind|\n",
    "\n",
    "### 4.1 Positive Lookahead\n",
    "\n",
    "The positive lookahead asserts that the first part of the expression must be\n",
    "followed by the lookahead expression. The returned match only contains the text\n",
    "that is matched by the first part of the expression. To define a positive\n",
    "lookahead, parentheses are used. Within those parentheses, a question mark with\n",
    "an equals sign is used like this: `(?=...)`. The lookahead expressions is written after\n",
    "the equals sign inside parentheses. For example, the regular expression\n",
    "`(T|t)he(?=\\sfat)` means: match either a lowercase `t` or an uppercase\n",
    " `T`, followed by the letter `h`, followed by the letter `e`. In parentheses we\n",
    "define a positive lookahead which tells the regular expression engine to match `The`\n",
    "or `the` only if it's followed by the word `fat`.\n",
    "\n",
    "<pre>\n",
    "\"(T|t)he(?=\\sfat)\" => <a href=\"#learn-regex\"><strong>The</strong></a> fat cat sat on the mat.\n",
    "</pre>\n",
    "\n",
    "\n",
    "\n",
    "### 4.2 Negative Lookahead\n",
    "\n",
    "Negative lookaheads are used when we need to get all matches from an input string\n",
    "that are not followed by a certain pattern. A negative lookahead is written the same way as a\n",
    "positive lookahead. The only difference is, instead of an equals sign `=`, we\n",
    "use an exclamation mark `!` to indicate negation i.e. `(?!...)`. Let's take a look at the following\n",
    "regular expression `(T|t)he(?!\\sfat)` which means: get all `The` or `the` words\n",
    "from the input string that are not followed by a space character and the word `fat`.\n",
    "\n",
    "<pre>\n",
    "\"(T|t)he(?!\\sfat)\" => The fat cat sat on <a href=\"#learn-regex\"><strong>the</strong></a> mat.\n",
    "</pre>\n",
    "\n",
    "\n",
    "\n",
    "### 4.3 Positive Lookbehind\n",
    "\n",
    "Positive lookbehinds are used to get all the matches that are preceded by a\n",
    "specific pattern. Positive lookbehinds are written `(?<=...)`. For example, the\n",
    "regular expression `(?<=(T|t)he\\s)(fat|mat)` means: get all `fat` or `mat` words\n",
    "from the input string that come after the word `The` or `the`.\n",
    "\n",
    "<pre>\n",
    "\"(?<=(T|t)he\\s)(fat|mat)\" => The <a href=\"#learn-regex\"><strong>fat</strong></a> cat sat on the <a href=\"#learn-regex\"><strong>mat</strong></a>.\n",
    "</pre>\n",
    "\n",
    "\n",
    "\n",
    "### 4.4 Negative Lookbehind\n",
    "\n",
    "Negative lookbehinds are used to get all the matches that are not preceded by a\n",
    "specific pattern. Negative lookbehinds are written `(?<!...)`. For example, the\n",
    "regular expression `(?<!(T|t)he\\s)(cat)` means: get all `cat` words from the input\n",
    "string that are not after the word `The` or `the`.\n",
    "\n",
    "<pre>\n",
    "\"(?&lt;!(T|t)he\\s)(cat)\" => The cat sat on <a href=\"#learn-regex\"><strong>cat</strong></a>.\n",
    "</pre>\n"
   ]
  },
  {
   "cell_type": "code",
   "execution_count": 124,
   "metadata": {},
   "outputs": [
    {
     "name": "stdout",
     "output_type": "stream",
     "text": [
      "graph.pbtxt\n",
      "['graph.pbtxt']\n"
     ]
    }
   ],
   "source": [
    "# E.g. a Positive look behind\n",
    "\n",
    "pattern = re.compile('(?<=input file )([a-z.]+)',re.I)\n",
    "\n",
    "matches = pattern.search('input file graph.pbtxt').group() \n",
    "print(matches)\n",
    "print(pattern.findall('input file graph.pbtxt'))"
   ]
  },
  {
   "cell_type": "code",
   "execution_count": 130,
   "metadata": {},
   "outputs": [
    {
     "name": "stdout",
     "output_type": "stream",
     "text": [
      "sat\n",
      "[('', 'sat'), ('', 'mat')]\n"
     ]
    }
   ],
   "source": [
    "# E.g. a Negativ look behind\n",
    "\n",
    "pattern = re.compile('(?<!(T|t)he\\s)(.at)',re.I)\n",
    "\n",
    "matches = pattern.search('the cat sat on mat').group() \n",
    "print(matches)\n",
    "print(pattern.findall('the cat sat on mat'))"
   ]
  },
  {
   "cell_type": "code",
   "execution_count": 159,
   "metadata": {},
   "outputs": [
    {
     "name": "stdout",
     "output_type": "stream",
     "text": [
      "I was sitting on the river bank\n"
     ]
    }
   ],
   "source": [
    "# find all sentences where both river and bank are present\n",
    "\n",
    "text_list = ['I was sitting on the river bank', 'all the banks are closed']\n",
    "\n",
    "for each_text in text_list:\n",
    "    if re.search('^(?=.*?river)(?=.*?bank)',each_text):\n",
    "        print(each_text)"
   ]
  },
  {
   "cell_type": "code",
   "execution_count": 158,
   "metadata": {},
   "outputs": [
    {
     "name": "stdout",
     "output_type": "stream",
     "text": [
      "all the banks are closed\n"
     ]
    }
   ],
   "source": [
    "# find A only if B is not present\n",
    "# find only sentences that talk about bank without river\n",
    "text_list = ['I was sitting on the river bank', 'all the banks are closed']\n",
    "\n",
    "for each_text in text_list:\n",
    "    if re.search('^(?!.*?river)(?=.*?bank)',each_text):\n",
    "        print(each_text)"
   ]
  },
  {
   "cell_type": "markdown",
   "metadata": {},
   "source": [
    "## 5. Flags\n",
    "\n",
    "Flags are also called modifiers because they modify the output of a regular\n",
    "expression. These flags can be used in any order or combination, and are an\n",
    "integral part of the RegExp.\n",
    "\n",
    "|Flag|Description|\n",
    "|:----:|----|\n",
    "|i|Case insensitive: Match will be case-insensitive.|\n",
    "|g|Global Search: Match all instances, not just the first.|\n",
    "|m|Multiline: Anchor meta characters work on each line.|\n",
    "\n",
    "### 5.1 Case Insensitive\n",
    "\n",
    "The `i` modifier is used to perform case-insensitive matching. For example, the\n",
    "regular expression `/The/gi` means: an uppercase `T`, followed by a lowercase\n",
    "`h`, followed by an `e`. And at the end of regular expression\n",
    "the `i` flag tells the regular expression engine to ignore the case. As you can\n",
    "see, we also provided `g` flag because we want to search for the pattern in the\n",
    "whole input string.\n",
    "\n",
    "<pre>\n",
    "\"The\" => <a href=\"#learn-regex\"><strong>The</strong></a> fat cat sat on the mat.\n",
    "</pre>\n",
    "\n",
    "\n",
    "\n",
    "<pre>\n",
    "\"/The/gi\" => <a href=\"#learn-regex\"><strong>The</strong></a> fat cat sat on <a href=\"#learn-regex\"><strong>the</strong></a> mat.\n",
    "</pre>\n",
    "\n",
    "\n",
    "\n",
    "### 5.2 Global Search\n",
    "\n",
    "The `g` modifier is used to perform a global match (finds all matches rather than\n",
    "stopping after the first match). For example, the regular expression`/.(at)/g`\n",
    "means: any character except a new line, followed by a lowercase `a`,\n",
    "followed by a lowercase `t`. Because we provided the `g` flag at the end of\n",
    "the regular expression, it will now find all matches in the input string, not just the first one (which is the default behavior).\n",
    "\n",
    "<pre>\n",
    "\"/.(at)/\" => The <a href=\"#learn-regex\"><strong>fat</strong></a> cat sat on the mat.\n",
    "</pre>\n",
    "\n",
    "\n",
    "\n",
    "<pre>\n",
    "\"/.(at)/g\" => The <a href=\"#learn-regex\"><strong>fat</strong></a> <a href=\"#learn-regex\"><strong>cat</strong></a> <a href=\"#learn-regex\"><strong>sat</strong></a> on the <a href=\"#learn-regex\"><strong>mat</strong></a>.\n",
    "</pre>\n",
    "\n",
    "\n",
    "\n",
    "### 5.3 Multiline\n",
    "\n",
    "The `m` modifier is used to perform a multi-line match. As we discussed earlier,\n",
    "anchors `(^, $)` are used to check if a pattern is at the beginning of the input or\n",
    "the end. But if we want the anchors to work on each line, we use\n",
    "the `m` flag. For example, the regular expression `/at(.)?$/gm` means: a lowercase\n",
    "`a`, followed by a lowercase `t` and, optionally, anything except\n",
    "a new line. And because of the `m` flag, the regular expression engine now matches patterns\n",
    "at the end of each line in a string.\n",
    "\n",
    "<pre>\n",
    "\"/.at(.)?$/\" => The fat\n",
    "                cat sat\n",
    "                on the <a href=\"#learn-regex\"><strong>mat.</strong></a>\n",
    "</pre>\n",
    "\n",
    "\n",
    "\n",
    "<pre>\n",
    "\"/.at(.)?$/gm\" => The <a href=\"#learn-regex\"><strong>fat</strong></a>\n",
    "                  cat <a href=\"#learn-regex\"><strong>sat</strong></a>\n",
    "                  on the <a href=\"#learn-regex\"><strong>mat.</strong></a>\n",
    "</pre>\n",
    "\n",
    "\n",
    "\n",
    "## 6. Greedy vs Lazy Matching\n",
    "By default, a regex will perform a greedy match, which means the match will be as long as\n",
    "possible. We can use `?` to match in a lazy way, which means the match should be as short as possible.\n",
    "\n",
    "<pre>\n",
    "\"/(.*at)/\" => <a href=\"#learn-regex\"><strong>The fat cat sat on the mat</strong></a>. </pre>\n",
    "\n",
    "\n",
    "\n",
    "\n",
    "<pre>\n",
    "\"/(.*?at)/\" => <a href=\"#learn-regex\"><strong>The fat</strong></a> cat sat on the mat. </pre>\n",
    "\n",
    "\n"
   ]
  }
 ],
 "metadata": {
  "kernelspec": {
   "display_name": "Python 3",
   "language": "python",
   "name": "python3"
  },
  "language_info": {
   "codemirror_mode": {
    "name": "ipython",
    "version": 3
   },
   "file_extension": ".py",
   "mimetype": "text/x-python",
   "name": "python",
   "nbconvert_exporter": "python",
   "pygments_lexer": "ipython3",
   "version": "3.6.5"
  }
 },
 "nbformat": 4,
 "nbformat_minor": 2
}
