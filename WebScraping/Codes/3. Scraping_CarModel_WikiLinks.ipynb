{
 "cells": [
  {
   "cell_type": "code",
   "execution_count": 1,
   "metadata": {},
   "outputs": [],
   "source": [
    "import re\n",
    "from selenium import webdriver\n",
    "driver=webdriver.Chrome(r\"E:\\Jupyter Notebook and Codes\\Jupyter Notebooks Folder\\Selenium Codes\\chromedriver.exe\")"
   ]
  },
  {
   "cell_type": "code",
   "execution_count": 12,
   "metadata": {},
   "outputs": [],
   "source": [
    "import pandas as pd"
   ]
  },
  {
   "cell_type": "code",
   "execution_count": 2,
   "metadata": {},
   "outputs": [],
   "source": [
    "import pickle"
   ]
  },
  {
   "cell_type": "code",
   "execution_count": 3,
   "metadata": {},
   "outputs": [],
   "source": [
    "import time as ts"
   ]
  },
  {
   "cell_type": "code",
   "execution_count": 43,
   "metadata": {},
   "outputs": [],
   "source": [
    "List_vehicles_owned=pickle.load(open(\"vehicle_models_jul18.pkl\",\"rb\"))\n",
    "List_vehicles_preferred=pickle.load(open(\"vehicle_models_preferred_jul22.pkl\",\"rb\"))"
   ]
  },
  {
   "cell_type": "code",
   "execution_count": 44,
   "metadata": {},
   "outputs": [
    {
     "data": {
      "text/plain": [
       "3514"
      ]
     },
     "execution_count": 44,
     "metadata": {},
     "output_type": "execute_result"
    }
   ],
   "source": [
    "List_vehicles=list(set(List_vehicles_owned+List_vehicles_preferred))\n",
    "len(List_vehicles)"
   ]
  },
  {
   "cell_type": "code",
   "execution_count": 46,
   "metadata": {},
   "outputs": [],
   "source": [
    "dict_vehicle_details={}"
   ]
  },
  {
   "cell_type": "code",
   "execution_count": 47,
   "metadata": {},
   "outputs": [],
   "source": [
    "for each in List_vehicles:\n",
    "    dict_vehicle_details[each]={}"
   ]
  },
  {
   "cell_type": "code",
   "execution_count": 31,
   "metadata": {},
   "outputs": [
    {
     "name": "stdout",
     "output_type": "stream",
     "text": [
      "0\n",
      "1\n",
      "No. of models not found in Wiki: 0\n",
      "Wall time: 13.5 s\n"
     ]
    }
   ],
   "source": [
    "%%time\n",
    "i=0\n",
    "for each in List_vehicles:\n",
    "    index=List_vehicles.index(each)\n",
    "    print (index)\n",
    "    driver.get(\"http://www.google.com\")\n",
    "    ts.sleep(1)\n",
    "    input_element = driver.find_element_by_name(\"q\")\n",
    "    input_element.send_keys(each+' car wiki')\n",
    "    input_element.submit()\n",
    "    ts.sleep(1.5)\n",
    "    html_source = driver.page_source\n",
    "    Results_WIP1=re.findall(r'<h3 class=\"r\"><a href=\"(.*?)\"',html_source,re.I)\n",
    "    Wiki_link=Results_WIP1[0]\n",
    "    if re.search(r'wikipedia',Wiki_link):\n",
    "        driver.get(Wiki_link)\n",
    "        ts.sleep(2)\n",
    "        html_source = driver.page_source\n",
    "        try:\n",
    "            temp0=re.sub(re.compile(r'\\n',re.I),'',html_source)\n",
    "            temp1=re.search(r'overview.*?</table>',temp0,re.I).group()\n",
    "            temp2=re.sub(re.compile(r'<.+?>',re.I),'#',temp1)\n",
    "            temp2=re.sub(re.compile('\\xa0'),'',temp2)\n",
    "            temp3=re.split(r'#{2,}',temp2)\n",
    "            temp3=[re.sub(re.compile('#'),'',each) for each in temp3]\n",
    "            for every in range(len(temp3)):\n",
    "                if temp3[every]=='Manufacturer':\n",
    "                    Manufacturer=temp3[every+1]\n",
    "                if temp3[every]=='Class':\n",
    "                    Class=temp3[every+1]\n",
    "                if temp3[every]=='Bodystyle':\n",
    "                    Bodystyle=temp3[every+1]  \n",
    "            dict_vehicle_details[each]['Manufacturer']=Manufacturer\n",
    "            dict_vehicle_details[each]['Class']=Class\n",
    "            dict_vehicle_details[each]['Bodystyle']=Bodystyle\n",
    "        except:\n",
    "            pass\n",
    "            i=i+1\n",
    "print (\"No. of models not found in Wiki:\",i)\n",
    "New_dict={k: v for k, v in dict_vehicle_details.items() if v !={}}\n",
    "pickle.dump(New_dict,open(r\"E:\\Jupyter Notebook and Codes\\Jupyter Notebooks Folder\\Reddit_Comments\\dict_vehicle_details_complete_jul22.pkl\",\"wb\"))"
   ]
  },
  {
   "cell_type": "markdown",
   "metadata": {},
   "source": [
    "###### Rough"
   ]
  },
  {
   "cell_type": "code",
   "execution_count": 38,
   "metadata": {},
   "outputs": [],
   "source": [
    "New_dict={k: v for k, v in dict_vehicle_details.items() if v !={}}"
   ]
  },
  {
   "cell_type": "code",
   "execution_count": 39,
   "metadata": {
    "scrolled": true
   },
   "outputs": [
    {
     "data": {
      "text/plain": [
       "{'1998 volvo s70': {'Bodystyle': '4-door saloon',\n",
       "  'Class': 'Compact Executive Car',\n",
       "  'Manufacturer': 'Volvo Cars'},\n",
       " 'nc miata': {'Bodystyle': '4-door saloon',\n",
       "  'Class': 'Roadster, sports car (S)',\n",
       "  'Manufacturer': 'Mazda'}}"
      ]
     },
     "execution_count": 39,
     "metadata": {},
     "output_type": "execute_result"
    }
   ],
   "source": [
    "New_dict"
   ]
  },
  {
   "cell_type": "code",
   "execution_count": 33,
   "metadata": {},
   "outputs": [
    {
     "data": {
      "text/plain": [
       "{'Bodystyle': '4-door saloon',\n",
       " 'Class': 'Compact Executive Car',\n",
       " 'Manufacturer': 'Volvo Cars'}"
      ]
     },
     "execution_count": 33,
     "metadata": {},
     "output_type": "execute_result"
    }
   ],
   "source": [
    "dict_vehicle_details[\"1998 volvo s70\"]"
   ]
  },
  {
   "cell_type": "code",
   "execution_count": 16,
   "metadata": {},
   "outputs": [],
   "source": [
    "html_source_pd=pd.Series(html_source)\n",
    "html_source_pd.to_csv(r'html_page_sample_auto.csv')"
   ]
  },
  {
   "cell_type": "code",
   "execution_count": 17,
   "metadata": {},
   "outputs": [
    {
     "data": {
      "text/plain": [
       "'Overview</th></tr><tr><th scope=\"row\">Manufacturer</th><td><a href=\"/wiki/Volvo_Cars\" title=\"Volvo Cars\">Volvo Cars</a></td></tr><tr><th scope=\"row\">Production</th><td>1996–2000 (243,078 units)<sup id=\"cite_ref-SR7_1-0\" class=\"reference\"><a href=\"#cite_note-SR7-1\">[1]</a></sup></td></tr><tr><th scope=\"row\"><a href=\"/wiki/Model_year\" title=\"Model year\">Model\\xa0years</a></th><td>1997–2000</td></tr><tr><th scope=\"row\">Assembly</th><td><div class=\"plainlist\"><ul><li>Sweden: <a href=\"/wiki/Torslanda\" title=\"Torslanda\">Torslanda</a> (<a href=\"/wiki/Torslandaverken\" title=\"Torslandaverken\">Torslandaverken</a>)</li><li>Belgium: <a href=\"/wiki/Ghent\" title=\"Ghent\">Ghent</a> (<a href=\"/wiki/Volvo_Car_Gent\" title=\"Volvo Car Gent\">VCG</a>)<sup id=\"cite_ref-2\" class=\"reference\"><a href=\"#cite_note-2\">[2]</a></sup></li><li>Canada: <a href=\"/wiki/Halifax,_Nova_Scotia\" title=\"Halifax, Nova Scotia\">Halifax</a> (<a href=\"/wiki/Volvo_Halifax_Assembly\" title=\"Volvo Halifax Assembly\">VHA</a>)</li></ul></div></td></tr><tr><th scope=\"row\"><a href=\"/wiki/Automotive_design\" title=\"Automotive design\">Designer</a></th><td><div class=\"plainlist\"><ul><li><a href=\"/wiki/Peter_Horbury\" title=\"Peter Horbury\">Peter Horbury</a> (exterior)</li><li>José Luis Diaz de la Vega (interior)<sup id=\"cite_ref-3\" class=\"reference\"><a href=\"#cite_note-3\">[3]</a></sup><sup id=\"cite_ref-4\" class=\"reference\"><a href=\"#cite_note-4\">[4]</a></sup></li></ul></div></td></tr><tr><th colspan=\"2\" style=\"text-align:center;background-color: #C0C0C0\">Body and chassis</th></tr><tr><th scope=\"row\"><a href=\"/wiki/Car_classification\" title=\"Car classification\">Class</a></th><td><a href=\"/wiki/Compact_executive_car\" title=\"Compact executive car\">Compact Executive Car</a></td></tr><tr><th scope=\"row\"><a href=\"/wiki/Car_classification\" title=\"Car classification\">Body\\xa0style</a></th><td>4-<a href=\"/wiki/Vehicle_door\" class=\"mw-redirect\" title=\"Vehicle door\">door</a> <a href=\"/wiki/Sedan_(automobile)\" title=\"Sedan (automobile)\">saloon</a></td></tr><tr><th scope=\"row\"><a href=\"/wiki/Automobile_layout\" title=\"Automobile layout\">Layout</a></th><td><div class=\"plainlist\"><ul><li><a href=\"/wiki/Front-engine,_front-wheel-drive_layout\" title=\"Front-engine, front-wheel-drive layout\">Front engine</a></li><li><a href=\"/wiki/Front-wheel_drive\" title=\"Front-wheel drive\">front-wheel drive</a> or <a href=\"/wiki/Four-wheel_drive\" title=\"Four-wheel drive\">four-wheel drive</a></li></ul></div></td></tr><tr><th scope=\"row\"><a href=\"/wiki/Automobile_platform\" class=\"mw-redirect\" title=\"Automobile platform\">Platform</a></th><td><a href=\"/wiki/Volvo_P80_platform\" title=\"Volvo P80 platform\">Volvo P80 platform</a><sup id=\"cite_ref-platform_5-0\" class=\"reference\"><a href=\"#cite_note-platform-5\">[5]</a></sup></td></tr><tr><th scope=\"row\">Related</th><td><a href=\"/wiki/Volvo_V70\" title=\"Volvo V70\">Volvo V70</a></td></tr><tr><th colspan=\"2\" style=\"text-align:center;background-color: #C0C0C0\">Powertrain</th></tr><tr><th scope=\"row\"><a href=\"/wiki/Engine\" title=\"Engine\">Engine</a></th><td><div class=\"plainlist\"><ul><li>Petrol:</li><li>2.0–2.5L <a href=\"/wiki/Straight-five_engine\" title=\"Straight-five engine\">I5</a></li><li>(93kW–184kW)</li><li>Diesel:</li><li>2.5L <a href=\"/wiki/Straight-five_engine\" title=\"Straight-five engine\">I5</a></li><li>(103kW)</li></ul></div> 2.0\\xa0L <a href=\"/wiki/Straight-five_engine\" title=\"Straight-five engine\">I5</a> (<a href=\"/wiki/Petrol_engine\" title=\"Petrol engine\">petrol</a>)<sup id=\"cite_ref-6\" class=\"reference\"><a href=\"#cite_note-6\">[6]</a></sup><br />2.3\\xa0L <a href=\"/wiki/Straight-five_engine\" title=\"Straight-five engine\">I5</a> (<a href=\"/wiki/Petrol_engine\" title=\"Petrol engine\">petrol</a>)<br />2.4\\xa0L <a href=\"/wiki/Straight-five_engine\" title=\"Straight-five engine\">I5</a> (<a href=\"/wiki/Petrol_engine\" title=\"Petrol engine\">petrol</a>)<sup id=\"cite_ref-7\" class=\"reference\"><a href=\"#cite_note-7\">[7]</a></sup><br />2.4\\xa0L <a href=\"/wiki/Straight-five_engine\" title=\"Straight-five engine\">I5</a> <a href=\"/wiki/Turbocharger\" title=\"Turbocharger\">turbo</a> (<a href=\"/wiki/Petrol_engine\" title=\"Petrol engine\">petrol</a>)<sup id=\"cite_ref-8\" class=\"reference\"><a href=\"#cite_note-8\">[8]</a></sup><br />2.5\\xa0L <a href=\"/wiki/Straight-five_engine\" title=\"Straight-five engine\">I5</a> (<a href=\"/wiki/Petrol_engine\" title=\"Petrol engine\">petrol</a>)<sup id=\"cite_ref-9\" class=\"reference\"><a href=\"#cite_note-9\">[9]</a></sup><br />2.5\\xa0L <a href=\"/wiki/Straight-five_engine\" title=\"Straight-five engine\">I5</a> <a href=\"/wiki/Turbocharger\" title=\"Turbocharger\">turbo</a> (<a href=\"/wiki/Petrol_engine\" title=\"Petrol engine\">petrol</a>)<sup id=\"cite_ref-10\" class=\"reference\"><a href=\"#cite_note-10\">[10]</a></sup><br />2.5\\xa0L <a href=\"/wiki/Straight-five_engine\" title=\"Straight-five engine\">I5</a> (<a href=\"/wiki/Diesel_engine\" title=\"Diesel engine\">diesel</a>)<sup id=\"cite_ref-11\" class=\"reference\"><a href=\"#cite_note-11\">[11]</a></sup></td></tr><tr><th scope=\"row\"><a href=\"/wiki/Transmission_(mechanics)\" title=\"Transmission (mechanics)\">Transmission</a></th><td class=\"category\"><div class=\"plainlist\"><ul><li>5-speed <i>Volvo M56</i> <a href=\"/wiki/Manual_transmission\" title=\"Manual transmission\">manual</a></li><li>5-speed <i>Volvo M58</i> manual</li><li>5-speed <i>Volvo M59</i> manual</li><li>4-speed <i>Aisin AW50-42LE</i> <a href=\"/wiki/Automatic_transmission\" title=\"Automatic transmission\">automatic</a><sup id=\"cite_ref-transmissions_issues_12-0\" class=\"reference\"><a href=\"#cite_note-transmissions_issues-12\">[12]</a></sup></li><li>5-speed <i><a href=\"/wiki/Aisin_AF33_transmission\" title=\"Aisin AF33 transmission\">Aisin AW55-50/51SN</a></i> automatic<sup id=\"cite_ref-transmissions_issues_12-1\" class=\"reference\"><a href=\"#cite_note-transmissions_issues-12\">[12]</a></sup></li></ul></div></td></tr><tr><th colspan=\"2\" style=\"text-align:center;background-color: #C0C0C0\">Dimensions</th></tr><tr><th scope=\"row\"><a href=\"/wiki/Wheelbase\" title=\"Wheelbase\">Wheelbase</a></th><td><div class=\"plainlist\"><ul><li>FWD: 2,664\\xa0mm (104.9\\xa0in)</li><li>AWD: 2,654\\xa0mm (104.5\\xa0in)</li></ul></div></td></tr><tr><th scope=\"row\">Length</th><td>4,722\\xa0mm (185.9\\xa0in)</td></tr><tr><th scope=\"row\">Width</th><td>1,760\\xa0mm (69.3\\xa0in)</td></tr><tr><th scope=\"row\">Height</th><td><div class=\"plainlist\"><ul><li>FWD: 1,402\\xa0mm (55.2\\xa0in)</li><li>AWD: 1,448\\xa0mm (57.0\\xa0in)</li></ul></div></td></tr><tr><th scope=\"row\"><a href=\"/wiki/Curb_weight\" title=\"Curb weight\">Kerb\\xa0weight</a></th><td><div class=\"plainlist\"><ul><li>FWD:<sup id=\"cite_ref-13\" class=\"reference\"><a href=\"#cite_note-13\">[13]</a></sup></li><li>1,428–1,510\\xa0kg (3,148–3,329\\xa0lb)</li><li>AWD:<sup id=\"cite_ref-14\" class=\"reference\"><a href=\"#cite_note-14\">[14]</a></sup></li><li>1,600–1,635\\xa0kg (3,527–3,605\\xa0lb)</li></ul></div></td></tr><tr><th colspan=\"2\" style=\"text-align:center;background-color: #C0C0C0\">Chronology</th></tr><tr><th scope=\"row\">Predecessor</th><td><a href=\"/wiki/Volvo_850\" title=\"Volvo 850\">Volvo 850 saloon</a></td></tr><tr><th scope=\"row\">Successor</th><td><a href=\"/wiki/Volvo_S60\" title=\"Volvo S60\">Volvo S60</a></td></tr></tbody></table>'"
      ]
     },
     "execution_count": 17,
     "metadata": {},
     "output_type": "execute_result"
    }
   ],
   "source": [
    "temp0=re.sub(re.compile(r'\\n',re.I),'',html_source)\n",
    "temp1=re.search(r'overview.*?</table>',temp0,re.I).group()\n",
    "temp1"
   ]
  },
  {
   "cell_type": "code",
   "execution_count": 22,
   "metadata": {},
   "outputs": [
    {
     "data": {
      "text/plain": [
       "'Overview####Manufacturer###Volvo Cars#####Production##1996–2000 (243,078 units)##[1]#######Model\\xa0years###1997–2000####Assembly#####Sweden: #Torslanda# (#Torslandaverken#)##Belgium: #Ghent# (#VCG#)##[2]####Canada: #Halifax# (#VHA#)########Designer#######Peter Horbury# (exterior)##José Luis Diaz de la Vega (interior)##[3]####[4]#########Body and chassis#####Class####Compact Executive Car######Body\\xa0style###4-#door# #saloon######Layout#######Front engine####front-wheel drive# or #four-wheel drive#########Platform####Volvo P80 platform###[5]######Related###Volvo V70#####Powertrain#####Engine######Petrol:##2.0–2.5L #I5###(93kW–184kW)##Diesel:##2.5L #I5###(103kW)### 2.0\\xa0L #I5# (#petrol#)##[6]###2.3\\xa0L #I5# (#petrol#)#2.4\\xa0L #I5# (#petrol#)##[7]###2.4\\xa0L #I5# #turbo# (#petrol#)##[8]###2.5\\xa0L #I5# (#petrol#)##[9]###2.5\\xa0L #I5# #turbo# (#petrol#)##[10]###2.5\\xa0L #I5# (#diesel#)##[11]#######Transmission######5-speed #Volvo M56# #manual###5-speed #Volvo M58# manual##5-speed #Volvo M59# manual##4-speed #Aisin AW50-42LE# #automatic###[12]####5-speed ##Aisin AW55-50/51SN## automatic##[12]#########Dimensions#####Wheelbase######FWD: 2,664\\xa0mm (104.9\\xa0in)##AWD: 2,654\\xa0mm (104.5\\xa0in)#######Length##4,722\\xa0mm (185.9\\xa0in)####Width##1,760\\xa0mm (69.3\\xa0in)####Height#####FWD: 1,402\\xa0mm (55.2\\xa0in)##AWD: 1,448\\xa0mm (57.0\\xa0in)########Kerb\\xa0weight######FWD:##[13]####1,428–1,510\\xa0kg (3,148–3,329\\xa0lb)##AWD:##[14]####1,600–1,635\\xa0kg (3,527–3,605\\xa0lb)#######Chronology####Predecessor###Volvo 850 saloon#####Successor###Volvo S60#####'"
      ]
     },
     "execution_count": 22,
     "metadata": {},
     "output_type": "execute_result"
    }
   ],
   "source": [
    "temp2=re.sub(re.compile(r'<.+?>',re.I),'#',temp1)\n",
    "temp2"
   ]
  },
  {
   "cell_type": "code",
   "execution_count": 30,
   "metadata": {},
   "outputs": [
    {
     "data": {
      "text/plain": [
       "{'Bodystyle': '4-door saloon',\n",
       " 'Class': 'Compact Executive Car',\n",
       " 'Manufacturer': 'Volvo Cars'}"
      ]
     },
     "execution_count": 30,
     "metadata": {},
     "output_type": "execute_result"
    }
   ],
   "source": [
    "temp2=re.sub(re.compile('\\xa0'),'',temp2)\n",
    "temp3=re.split(r'#{2,}',temp2)\n",
    "temp3=[re.sub(re.compile('#'),'',each) for each in temp3]\n",
    "for each in range(len(temp3)):\n",
    "    if temp3[each]=='Manufacturer':\n",
    "        Manufacturer=temp3[each+1]\n",
    "    if temp3[each]=='Class':\n",
    "        Class=temp3[each+1]\n",
    "    if temp3[each]=='Bodystyle':\n",
    "        Bodystyle=temp3[each+1]       \n",
    "dict_vehicle_details[\"1998 volvo s70\"]['Manufacturer']=Manufacturer\n",
    "dict_vehicle_details[\"1998 volvo s70\"]['Class']=Class\n",
    "dict_vehicle_details[\"1998 volvo s70\"]['Bodystyle']=Bodystyle\n",
    "dict_vehicle_details[\"1998 volvo s70\"]"
   ]
  },
  {
   "cell_type": "code",
   "execution_count": 42,
   "metadata": {},
   "outputs": [
    {
     "name": "stdout",
     "output_type": "stream",
     "text": [
      "No. of models not found in Wiki: 313\n"
     ]
    }
   ],
   "source": [
    "print (\"No. of models not found in Wiki:\",i)\n",
    "pickle.dump(dict_vehicle_details,open(r\"E:\\Jupyter Notebook and Codes\\Jupyter Notebooks Folder\\Reddit_Comments\\dict_vehicle_details_complete.pkl\",\"wb\"))"
   ]
  },
  {
   "cell_type": "code",
   "execution_count": 33,
   "metadata": {},
   "outputs": [],
   "source": [
    "pickle.dump(dict_vehicle_details,open(r\"E:\\Jupyter Notebook and Codes\\Jupyter Notebooks Folder\\Reddit_Comments\\dict_vehicle_details_0-10.pkl\",\"wb\"))"
   ]
  }
 ],
 "metadata": {
  "kernelspec": {
   "display_name": "Python 3",
   "language": "python",
   "name": "python3"
  },
  "language_info": {
   "codemirror_mode": {
    "name": "ipython",
    "version": 3
   },
   "file_extension": ".py",
   "mimetype": "text/x-python",
   "name": "python",
   "nbconvert_exporter": "python",
   "pygments_lexer": "ipython3",
   "version": "3.6.4"
  }
 },
 "nbformat": 4,
 "nbformat_minor": 2
}
